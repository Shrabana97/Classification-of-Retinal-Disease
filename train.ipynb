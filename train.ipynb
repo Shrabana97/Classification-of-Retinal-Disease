{
 "cells": [
  {
   "cell_type": "markdown",
   "metadata": {},
   "source": [
    "# Import Libraries"
   ]
  },
  {
   "cell_type": "code",
   "execution_count": 1,
   "metadata": {},
   "outputs": [],
   "source": [
    "# for creating neural network architecture\n",
    "import tensorflow as tf\n",
    "from tensorflow.keras.optimizers import RMSprop\n",
    "from tensorflow.keras.preprocessing.image import ImageDataGenerator\n",
    "\n",
    "# for image processing\n",
    "import cv2\n",
    "import numpy as np\n",
    "\n",
    "# for dataset management\n",
    "import os\n",
    "\n",
    "# for time management\n",
    "from tqdm import tqdm \n",
    "\n",
    "# for plotting curves\n",
    "import matplotlib.pyplot as plt\n",
    "\n",
    "# for plotting confusion matrix\n",
    "from mlxtend.plotting import plot_confusion_matrix\n"
   ]
  },
  {
   "cell_type": "markdown",
   "metadata": {},
   "source": [
    "# Setup memory growth for GPU\n",
    "comment out this cell if using cpu\n"
   ]
  },
  {
   "cell_type": "code",
   "execution_count": 2,
   "metadata": {},
   "outputs": [],
   "source": [
    "physical_devices = tf.config.experimental.list_physical_devices('GPU')\n",
    "tf.config.experimental.set_memory_growth(physical_devices[0], True)"
   ]
  },
  {
   "cell_type": "markdown",
   "metadata": {},
   "source": [
    "# Load Dataset"
   ]
  },
  {
   "cell_type": "code",
   "execution_count": 3,
   "metadata": {},
   "outputs": [],
   "source": [
    "train_directory = '/mnt/335fff25-d210-4fe2-8249-4ba8b4a17ce4/DATASETS/Shrabana/retina/OCT2017/train'\n",
    "val_directory = '/mnt/335fff25-d210-4fe2-8249-4ba8b4a17ce4/DATASETS/Shrabana/retina/OCT2017/val'\n",
    "test_directory = '/mnt/335fff25-d210-4fe2-8249-4ba8b4a17ce4/DATASETS/Shrabana/retina/OCT2017/test'"
   ]
  },
  {
   "cell_type": "markdown",
   "metadata": {},
   "source": [
    "# Analyze Dataset"
   ]
  },
  {
   "cell_type": "markdown",
   "metadata": {},
   "source": [
    "### Train dataset"
   ]
  },
  {
   "cell_type": "markdown",
   "metadata": {},
   "source": [
    "#### Get image data"
   ]
  },
  {
   "cell_type": "code",
   "execution_count": 4,
   "metadata": {},
   "outputs": [
    {
     "name": "stderr",
     "output_type": "stream",
     "text": [
      "Progress: 100%|██████████| 83484/83484 [22:30<00:00, 61.80it/s] \n"
     ]
    }
   ],
   "source": [
    "width_lis = []\n",
    "height_lis = []\n",
    "\n",
    "total = sum([len(files) for r, d, files in os.walk(train_directory)])\n",
    "\n",
    "with tqdm(total=total) as pbar:\n",
    "    for classname in os.listdir(train_directory):\n",
    "        class_dir = os.path.join(train_directory, classname)\n",
    "        for filename in os.listdir(class_dir):\n",
    "            file = os.path.join(class_dir, filename)\n",
    "            img = cv2.imread(file)\n",
    "\n",
    "            height_lis.append(img.shape[0])\n",
    "            width_lis.append(img.shape[1])\n",
    "            \n",
    "            pbar.set_description(\"Progress\")\n",
    "            pbar.update()"
   ]
  },
  {
   "cell_type": "code",
   "execution_count": 6,
   "metadata": {},
   "outputs": [
    {
     "name": "stdout",
     "output_type": "stream",
     "text": [
      "(498.96219634900103, 6.214542169297849)\n",
      "(682.093239423123, 306.2901569182483)\n",
      "496\n",
      "384\n"
     ]
    }
   ],
   "source": [
    "avg_height = (np.mean(height_lis), np.std(height_lis))\n",
    "avg_width = (np.mean(width_lis), np.std(width_lis))\n",
    "\n",
    "smallest_height = min(height_lis)\n",
    "smallest_width = min(width_lis)\n",
    "\n",
    "print(avg_height)\n",
    "print(avg_width)\n",
    "\n",
    "print(smallest_height)\n",
    "print(smallest_width)"
   ]
  },
  {
   "cell_type": "markdown",
   "metadata": {},
   "source": [
    "#### Resize image"
   ]
  },
  {
   "cell_type": "code",
   "execution_count": 7,
   "metadata": {},
   "outputs": [
    {
     "name": "stderr",
     "output_type": "stream",
     "text": [
      "Progress: 100%|██████████| 83484/83484 [07:58<00:00, 174.49it/s]\n"
     ]
    }
   ],
   "source": [
    "total = sum([len(files) for r, d, files in os.walk(train_directory)])\n",
    "\n",
    "with tqdm(total=total) as pbar:\n",
    "    for classname in os.listdir(train_directory):\n",
    "        class_dir = os.path.join(train_directory, classname)\n",
    "        for filename in os.listdir(class_dir):\n",
    "            file = os.path.join(class_dir, filename)\n",
    "            img = cv2.imread(file)\n",
    "            res = cv2.resize(img, (128, 128))\n",
    "            cv2.imwrite(file, res)\n",
    "            \n",
    "            pbar.set_description(\"Progress\")\n",
    "            pbar.update()"
   ]
  },
  {
   "cell_type": "markdown",
   "metadata": {},
   "source": [
    "### Validation dataset"
   ]
  },
  {
   "cell_type": "markdown",
   "metadata": {},
   "source": [
    "#### Get image data"
   ]
  },
  {
   "cell_type": "code",
   "execution_count": 8,
   "metadata": {},
   "outputs": [
    {
     "name": "stderr",
     "output_type": "stream",
     "text": [
      "Progress: 100%|██████████| 32/32 [00:00<00:00, 154.68it/s]\n"
     ]
    }
   ],
   "source": [
    "width_lis = []\n",
    "height_lis = []\n",
    "\n",
    "total = sum([len(files) for r, d, files in os.walk(val_directory)])\n",
    "\n",
    "with tqdm(total=total) as pbar:\n",
    "    for classname in os.listdir(val_directory):\n",
    "        class_dir = os.path.join(val_directory, classname)\n",
    "        for filename in os.listdir(class_dir):\n",
    "            file = os.path.join(class_dir, filename)\n",
    "            img = cv2.imread(file)\n",
    "\n",
    "            height_lis.append(img.shape[0])\n",
    "            width_lis.append(img.shape[1])\n",
    "            \n",
    "            pbar.set_description(\"Progress\")\n",
    "            pbar.update()"
   ]
  },
  {
   "cell_type": "code",
   "execution_count": 9,
   "metadata": {},
   "outputs": [
    {
     "name": "stdout",
     "output_type": "stream",
     "text": [
      "(496.0, 0.0)\n",
      "(576.0, 110.85125168440814)\n",
      "496\n",
      "512\n"
     ]
    }
   ],
   "source": [
    "avg_height = (np.mean(height_lis), np.std(height_lis))\n",
    "avg_width = (np.mean(width_lis), np.std(width_lis))\n",
    "\n",
    "smallest_height = min(height_lis)\n",
    "smallest_width = min(width_lis)\n",
    "\n",
    "print(avg_height)\n",
    "print(avg_width)\n",
    "\n",
    "print(smallest_height)\n",
    "print(smallest_width)"
   ]
  },
  {
   "cell_type": "markdown",
   "metadata": {},
   "source": [
    "#### Resize image"
   ]
  },
  {
   "cell_type": "code",
   "execution_count": 10,
   "metadata": {},
   "outputs": [
    {
     "name": "stderr",
     "output_type": "stream",
     "text": [
      "Progress: 100%|██████████| 32/32 [00:00<00:00, 218.49it/s]\n"
     ]
    }
   ],
   "source": [
    "total = sum([len(files) for r, d, files in os.walk(val_directory)])\n",
    "\n",
    "with tqdm(total=total) as pbar:\n",
    "    for classname in os.listdir(val_directory):\n",
    "        class_dir = os.path.join(val_directory, classname)\n",
    "        for filename in os.listdir(class_dir):\n",
    "            file = os.path.join(class_dir, filename)\n",
    "            img = cv2.imread(file)\n",
    "            res = cv2.resize(img, (128, 128))\n",
    "            cv2.imwrite(file, res)\n",
    "            \n",
    "            pbar.set_description(\"Progress\")\n",
    "            pbar.update()"
   ]
  },
  {
   "cell_type": "markdown",
   "metadata": {},
   "source": [
    "### Testing dataset"
   ]
  },
  {
   "cell_type": "markdown",
   "metadata": {},
   "source": [
    "#### Get image data"
   ]
  },
  {
   "cell_type": "code",
   "execution_count": 11,
   "metadata": {},
   "outputs": [
    {
     "name": "stderr",
     "output_type": "stream",
     "text": [
      "Progress: 100%|██████████| 968/968 [00:05<00:00, 180.30it/s]\n"
     ]
    }
   ],
   "source": [
    "width_lis = []\n",
    "height_lis = []\n",
    "\n",
    "total = sum([len(files) for r, d, files in os.walk(test_directory)])\n",
    "\n",
    "with tqdm(total=total) as pbar:\n",
    "    for classname in os.listdir(test_directory):\n",
    "        class_dir = os.path.join(test_directory, classname)\n",
    "        for filename in os.listdir(class_dir):\n",
    "            file = os.path.join(class_dir, filename)\n",
    "            img = cv2.imread(file)\n",
    "\n",
    "            height_lis.append(img.shape[0])\n",
    "            width_lis.append(img.shape[1])\n",
    "            \n",
    "            pbar.set_description(\"Progress\")\n",
    "            pbar.update()"
   ]
  },
  {
   "cell_type": "code",
   "execution_count": 12,
   "metadata": {},
   "outputs": [
    {
     "name": "stdout",
     "output_type": "stream",
     "text": [
      "(496.0, 0.0)\n",
      "(571.7685950413223, 111.98618276122751)\n",
      "496\n",
      "512\n"
     ]
    }
   ],
   "source": [
    "avg_height = (np.mean(height_lis), np.std(height_lis))\n",
    "avg_width = (np.mean(width_lis), np.std(width_lis))\n",
    "\n",
    "smallest_height = min(height_lis)\n",
    "smallest_width = min(width_lis)\n",
    "\n",
    "print(avg_height)\n",
    "print(avg_width)\n",
    "\n",
    "print(smallest_height)\n",
    "print(smallest_width)"
   ]
  },
  {
   "cell_type": "markdown",
   "metadata": {},
   "source": [
    "#### Resize Image"
   ]
  },
  {
   "cell_type": "code",
   "execution_count": 13,
   "metadata": {},
   "outputs": [
    {
     "name": "stderr",
     "output_type": "stream",
     "text": [
      "Progress: 100%|██████████| 968/968 [00:04<00:00, 204.00it/s]\n"
     ]
    }
   ],
   "source": [
    "total = sum([len(files) for r, d, files in os.walk(test_directory)])\n",
    "\n",
    "with tqdm(total=total) as pbar:\n",
    "    for classname in os.listdir(test_directory):\n",
    "        class_dir = os.path.join(test_directory, classname)\n",
    "        for filename in os.listdir(class_dir):\n",
    "            file = os.path.join(class_dir, filename)\n",
    "            img = cv2.imread(file)\n",
    "            res = cv2.resize(img, (128, 128))\n",
    "            cv2.imwrite(file, res)\n",
    "            \n",
    "            pbar.set_description(\"Progress\")\n",
    "            pbar.update()"
   ]
  },
  {
   "cell_type": "markdown",
   "metadata": {},
   "source": [
    "# Callbacks"
   ]
  },
  {
   "cell_type": "code",
   "execution_count": 26,
   "metadata": {},
   "outputs": [],
   "source": [
    "learning_rate = 0.001\n",
    "\n",
    "def lr_schedule(epoch):\n",
    "    return learning_rate * (0.1 ** int(epoch / 10))\n",
    "\n",
    "best_model_name = 'model.h5'\n",
    "\n",
    "callback = [tf.keras.callbacks.LearningRateScheduler(lr_schedule, verbose = 1),\n",
    "            tf.keras.callbacks.EarlyStopping(monitor = 'loss', min_delta = 0.001, patience = 5, verbose = 1, mode = \"min\"),\n",
    "            tf.keras.callbacks.ModelCheckpoint(best_model_name, monitor = 'loss', verbose = 1, save_best_only = True, mode = 'min')]"
   ]
  },
  {
   "cell_type": "markdown",
   "metadata": {},
   "source": [
    "# Model Architecture"
   ]
  },
  {
   "cell_type": "code",
   "execution_count": 31,
   "metadata": {},
   "outputs": [],
   "source": [
    "output_activation = 'softmax'\n",
    "output_neurons = 4\n",
    "\n",
    "model = tf.keras.models.Sequential([\n",
    "    # 1st layer\n",
    "    tf.keras.layers.Conv2D(16, (3,3), padding = 'same', activation='relu', input_shape=(128, 128, 3)),\n",
    "#     tf.keras.layers.Conv2D(16, (3,3), padding = 'same', activation='relu', input_shape=(128, 128, 3)),\n",
    "    tf.keras.layers.MaxPooling2D(2, 2),\n",
    "    \n",
    "    # 2nd layer\n",
    "    tf.keras.layers.Conv2D(32, (3,3), padding = 'same', activation='relu'),\n",
    "#     tf.keras.layers.Conv2D(32, (3,3), padding = 'same', activation='relu'),\n",
    "    tf.keras.layers.MaxPooling2D(2,2),\n",
    "    \n",
    "    # 3rd layer\n",
    "    tf.keras.layers.Conv2D(64, (3,3), padding = 'same', activation='relu'),\n",
    "#     tf.keras.layers.Conv2D(64, (3,3), padding = 'same', activation='relu'),\n",
    "    tf.keras.layers.MaxPooling2D(2,2),\n",
    "    \n",
    "    # 4th layer\n",
    "    tf.keras.layers.Conv2D(128, (3,3), padding = 'same', activation='relu'),\n",
    "#     tf.keras.layers.Conv2D(128, (3,3), padding = 'same', activation='relu'),\n",
    "    tf.keras.layers.MaxPooling2D(2,2),\n",
    "    \n",
    "    # 5th layer\n",
    "    tf.keras.layers.Conv2D(256, (3,3), padding = 'same', activation='relu'),\n",
    "#     tf.keras.layers.Conv2D(256, (3,3), padding = 'same', activation='relu'),\n",
    "    tf.keras.layers.MaxPooling2D(2,2),\n",
    "    \n",
    "    # flatten\n",
    "    tf.keras.layers.Flatten(),\n",
    "    \n",
    "    # dense layer\n",
    "    tf.keras.layers.Dense(256, activation='relu'),\n",
    "    tf.keras.layers.Dropout(0.3),\n",
    "    tf.keras.layers.Dense(output_neurons, activation = output_activation)\n",
    "])\n"
   ]
  },
  {
   "cell_type": "code",
   "execution_count": 32,
   "metadata": {},
   "outputs": [
    {
     "name": "stdout",
     "output_type": "stream",
     "text": [
      "Model: \"sequential_2\"\n",
      "_________________________________________________________________\n",
      "Layer (type)                 Output Shape              Param #   \n",
      "=================================================================\n",
      "conv2d_20 (Conv2D)           (None, 128, 128, 16)      448       \n",
      "_________________________________________________________________\n",
      "max_pooling2d_10 (MaxPooling (None, 64, 64, 16)        0         \n",
      "_________________________________________________________________\n",
      "conv2d_21 (Conv2D)           (None, 64, 64, 32)        4640      \n",
      "_________________________________________________________________\n",
      "max_pooling2d_11 (MaxPooling (None, 32, 32, 32)        0         \n",
      "_________________________________________________________________\n",
      "conv2d_22 (Conv2D)           (None, 32, 32, 64)        18496     \n",
      "_________________________________________________________________\n",
      "max_pooling2d_12 (MaxPooling (None, 16, 16, 64)        0         \n",
      "_________________________________________________________________\n",
      "conv2d_23 (Conv2D)           (None, 16, 16, 128)       73856     \n",
      "_________________________________________________________________\n",
      "max_pooling2d_13 (MaxPooling (None, 8, 8, 128)         0         \n",
      "_________________________________________________________________\n",
      "conv2d_24 (Conv2D)           (None, 8, 8, 256)         295168    \n",
      "_________________________________________________________________\n",
      "max_pooling2d_14 (MaxPooling (None, 4, 4, 256)         0         \n",
      "_________________________________________________________________\n",
      "flatten_2 (Flatten)          (None, 4096)              0         \n",
      "_________________________________________________________________\n",
      "dense_4 (Dense)              (None, 256)               1048832   \n",
      "_________________________________________________________________\n",
      "dropout_1 (Dropout)          (None, 256)               0         \n",
      "_________________________________________________________________\n",
      "dense_5 (Dense)              (None, 4)                 1028      \n",
      "=================================================================\n",
      "Total params: 1,442,468\n",
      "Trainable params: 1,442,468\n",
      "Non-trainable params: 0\n",
      "_________________________________________________________________\n"
     ]
    }
   ],
   "source": [
    "model.summary()"
   ]
  },
  {
   "cell_type": "code",
   "execution_count": 33,
   "metadata": {},
   "outputs": [],
   "source": [
    "loss = 'categorical_crossentropy'\n",
    "optimizer = tf.keras.optimizers.Adam(learning_rate = learning_rate, beta_1 = 0.9, beta_2 = 0.999, amsgrad = False)\n",
    "\n",
    "\n",
    "model.compile(loss = loss,\n",
    "              optimizer = optimizer,\n",
    "              metrics=['accuracy'])"
   ]
  },
  {
   "cell_type": "markdown",
   "metadata": {},
   "source": [
    "# Configure Image Data Generator"
   ]
  },
  {
   "cell_type": "code",
   "execution_count": 34,
   "metadata": {},
   "outputs": [
    {
     "name": "stdout",
     "output_type": "stream",
     "text": [
      "Found 83484 images belonging to 4 classes.\n",
      "Found 32 images belonging to 4 classes.\n",
      "Found 968 images belonging to 4 classes.\n"
     ]
    }
   ],
   "source": [
    "class_mode = 'categorical'\n",
    "batch_size = 8\n",
    "target_size = (128,128)\n",
    "\n",
    "\n",
    "train_datagen = ImageDataGenerator(rescale=1.0/255.0)\n",
    "\n",
    "\n",
    "train_generator = train_datagen.flow_from_directory(train_directory,\n",
    "                                                    batch_size = batch_size,\n",
    "                                                    class_mode = class_mode,\n",
    "                                                    target_size = target_size)\n",
    "\n",
    "validation_generator = train_datagen.flow_from_directory(val_directory,\n",
    "                                                    batch_size = batch_size,\n",
    "                                                    class_mode = class_mode,\n",
    "                                                    target_size = target_size)\n",
    "\n",
    "test_generator = train_datagen.flow_from_directory(test_directory,\n",
    "                                                    batch_size = batch_size,\n",
    "                                                    class_mode = class_mode,\n",
    "                                                    target_size = target_size)"
   ]
  },
  {
   "cell_type": "markdown",
   "metadata": {},
   "source": [
    "# Train "
   ]
  },
  {
   "cell_type": "code",
   "execution_count": 35,
   "metadata": {},
   "outputs": [
    {
     "name": "stdout",
     "output_type": "stream",
     "text": [
      "Epoch 1/50\n",
      "\n",
      "Epoch 00001: LearningRateScheduler reducing learning rate to 0.001.\n",
      "10436/10436 [==============================] - 89s 8ms/step - loss: 0.8263 - accuracy: 0.6697 - val_loss: 0.4776 - val_accuracy: 0.8125\n",
      "\n",
      "Epoch 00001: loss improved from 1.23094 to 0.60495, saving model to best_model.h5\n",
      "Epoch 2/50\n",
      "\n",
      "Epoch 00002: LearningRateScheduler reducing learning rate to 0.001.\n",
      "10436/10436 [==============================] - 87s 8ms/step - loss: 0.3654 - accuracy: 0.8716 - val_loss: 0.3830 - val_accuracy: 0.8750\n",
      "\n",
      "Epoch 00002: loss improved from 0.60495 to 0.34520, saving model to best_model.h5\n",
      "Epoch 3/50\n",
      "\n",
      "Epoch 00003: LearningRateScheduler reducing learning rate to 0.001.\n",
      "10436/10436 [==============================] - 93s 9ms/step - loss: 0.2851 - accuracy: 0.9033 - val_loss: 0.0887 - val_accuracy: 0.9375\n",
      "\n",
      "Epoch 00003: loss improved from 0.34520 to 0.27719, saving model to best_model.h5\n",
      "Epoch 4/50\n",
      "\n",
      "Epoch 00004: LearningRateScheduler reducing learning rate to 0.001.\n",
      "10436/10436 [==============================] - 102s 10ms/step - loss: 0.2465 - accuracy: 0.9160 - val_loss: 0.0702 - val_accuracy: 1.0000\n",
      "\n",
      "Epoch 00004: loss improved from 0.27719 to 0.24842, saving model to best_model.h5\n",
      "Epoch 5/50\n",
      "\n",
      "Epoch 00005: LearningRateScheduler reducing learning rate to 0.001.\n",
      "10436/10436 [==============================] - 101s 10ms/step - loss: 0.2271 - accuracy: 0.9233 - val_loss: 0.0227 - val_accuracy: 1.0000\n",
      "\n",
      "Epoch 00005: loss improved from 0.24842 to 0.22869, saving model to best_model.h5\n",
      "Epoch 6/50\n",
      "\n",
      "Epoch 00006: LearningRateScheduler reducing learning rate to 0.001.\n",
      "10436/10436 [==============================] - 101s 10ms/step - loss: 0.2131 - accuracy: 0.9284 - val_loss: 0.0303 - val_accuracy: 1.0000\n",
      "\n",
      "Epoch 00006: loss improved from 0.22869 to 0.21569, saving model to best_model.h5\n",
      "Epoch 7/50\n",
      "\n",
      "Epoch 00007: LearningRateScheduler reducing learning rate to 0.001.\n",
      "10436/10436 [==============================] - 100s 10ms/step - loss: 0.2072 - accuracy: 0.9306 - val_loss: 0.0266 - val_accuracy: 1.0000\n",
      "\n",
      "Epoch 00007: loss improved from 0.21569 to 0.21179, saving model to best_model.h5\n",
      "Epoch 8/50\n",
      "\n",
      "Epoch 00008: LearningRateScheduler reducing learning rate to 0.001.\n",
      "10436/10436 [==============================] - 99s 10ms/step - loss: 0.2067 - accuracy: 0.9302 - val_loss: 0.0503 - val_accuracy: 0.9688\n",
      "\n",
      "Epoch 00008: loss improved from 0.21179 to 0.20898, saving model to best_model.h5\n",
      "Epoch 9/50\n",
      "\n",
      "Epoch 00009: LearningRateScheduler reducing learning rate to 0.001.\n",
      "10436/10436 [==============================] - 101s 10ms/step - loss: 0.2042 - accuracy: 0.9335 - val_loss: 0.0385 - val_accuracy: 1.0000\n",
      "\n",
      "Epoch 00009: loss improved from 0.20898 to 0.20345, saving model to best_model.h5\n",
      "Epoch 10/50\n",
      "\n",
      "Epoch 00010: LearningRateScheduler reducing learning rate to 0.001.\n",
      "10436/10436 [==============================] - 104s 10ms/step - loss: 0.1935 - accuracy: 0.9339 - val_loss: 0.0880 - val_accuracy: 0.9375\n",
      "\n",
      "Epoch 00010: loss improved from 0.20345 to 0.20207, saving model to best_model.h5\n",
      "Epoch 11/50\n",
      "\n",
      "Epoch 00011: LearningRateScheduler reducing learning rate to 0.0001.\n",
      "10436/10436 [==============================] - 101s 10ms/step - loss: 0.1445 - accuracy: 0.9507 - val_loss: 0.0212 - val_accuracy: 1.0000\n",
      "\n",
      "Epoch 00011: loss improved from 0.20207 to 0.13237, saving model to best_model.h5\n",
      "Epoch 12/50\n",
      "\n",
      "Epoch 00012: LearningRateScheduler reducing learning rate to 0.0001.\n",
      "10436/10436 [==============================] - 99s 9ms/step - loss: 0.1134 - accuracy: 0.9609 - val_loss: 0.0300 - val_accuracy: 1.0000\n",
      "\n",
      "Epoch 00012: loss improved from 0.13237 to 0.11508, saving model to best_model.h5\n",
      "Epoch 13/50\n",
      "\n",
      "Epoch 00013: LearningRateScheduler reducing learning rate to 0.0001.\n",
      "10436/10436 [==============================] - 96s 9ms/step - loss: 0.1036 - accuracy: 0.9638 - val_loss: 0.0280 - val_accuracy: 1.0000\n",
      "\n",
      "Epoch 00013: loss improved from 0.11508 to 0.10543, saving model to best_model.h5\n",
      "Epoch 14/50\n",
      "\n",
      "Epoch 00014: LearningRateScheduler reducing learning rate to 0.0001.\n",
      "10436/10436 [==============================] - 104s 10ms/step - loss: 0.0988 - accuracy: 0.9656 - val_loss: 0.0273 - val_accuracy: 1.0000\n",
      "\n",
      "Epoch 00014: loss improved from 0.10543 to 0.09791, saving model to best_model.h5\n",
      "Epoch 15/50\n",
      "\n",
      "Epoch 00015: LearningRateScheduler reducing learning rate to 0.0001.\n",
      "10436/10436 [==============================] - 99s 10ms/step - loss: 0.0936 - accuracy: 0.9670 - val_loss: 0.0228 - val_accuracy: 1.0000\n",
      "\n",
      "Epoch 00015: loss improved from 0.09791 to 0.09237, saving model to best_model.h5\n",
      "Epoch 16/50\n",
      "\n",
      "Epoch 00016: LearningRateScheduler reducing learning rate to 0.0001.\n",
      "10436/10436 [==============================] - 99s 9ms/step - loss: 0.0867 - accuracy: 0.9693 - val_loss: 0.0291 - val_accuracy: 0.9688\n",
      "\n",
      "Epoch 00016: loss improved from 0.09237 to 0.08562, saving model to best_model.h5\n",
      "Epoch 17/50\n",
      "\n",
      "Epoch 00017: LearningRateScheduler reducing learning rate to 0.0001.\n",
      "10436/10436 [==============================] - 102s 10ms/step - loss: 0.0799 - accuracy: 0.9718 - val_loss: 0.0173 - val_accuracy: 1.0000\n",
      "\n",
      "Epoch 00017: loss improved from 0.08562 to 0.08091, saving model to best_model.h5\n",
      "Epoch 18/50\n",
      "\n",
      "Epoch 00018: LearningRateScheduler reducing learning rate to 0.0001.\n",
      "10436/10436 [==============================] - 96s 9ms/step - loss: 0.0752 - accuracy: 0.9747 - val_loss: 0.0278 - val_accuracy: 1.0000\n",
      "\n",
      "Epoch 00018: loss improved from 0.08091 to 0.07668, saving model to best_model.h5\n",
      "Epoch 19/50\n",
      "\n",
      "Epoch 00019: LearningRateScheduler reducing learning rate to 0.0001.\n",
      "10436/10436 [==============================] - 97s 9ms/step - loss: 0.0712 - accuracy: 0.9741 - val_loss: 0.0219 - val_accuracy: 1.0000\n",
      "\n",
      "Epoch 00019: loss improved from 0.07668 to 0.07276, saving model to best_model.h5\n",
      "Epoch 20/50\n",
      "\n",
      "Epoch 00020: LearningRateScheduler reducing learning rate to 0.0001.\n",
      "10436/10436 [==============================] - 102s 10ms/step - loss: 0.0657 - accuracy: 0.9756 - val_loss: 0.0233 - val_accuracy: 1.0000\n",
      "\n",
      "Epoch 00020: loss improved from 0.07276 to 0.06835, saving model to best_model.h5\n",
      "Epoch 21/50\n",
      "\n",
      "Epoch 00021: LearningRateScheduler reducing learning rate to 1.0000000000000003e-05.\n",
      "10436/10436 [==============================] - 104s 10ms/step - loss: 0.0597 - accuracy: 0.9786 - val_loss: 0.0213 - val_accuracy: 1.0000\n",
      "\n",
      "Epoch 00021: loss improved from 0.06835 to 0.05881, saving model to best_model.h5\n",
      "Epoch 22/50\n",
      "\n",
      "Epoch 00022: LearningRateScheduler reducing learning rate to 1.0000000000000003e-05.\n",
      "10436/10436 [==============================] - 102s 10ms/step - loss: 0.0589 - accuracy: 0.9790 - val_loss: 0.0268 - val_accuracy: 0.9688\n",
      "\n",
      "Epoch 00022: loss improved from 0.05881 to 0.05761, saving model to best_model.h5\n",
      "Epoch 23/50\n",
      "\n",
      "Epoch 00023: LearningRateScheduler reducing learning rate to 1.0000000000000003e-05.\n",
      "10436/10436 [==============================] - 104s 10ms/step - loss: 0.0553 - accuracy: 0.9810 - val_loss: 0.0262 - val_accuracy: 1.0000\n",
      "\n",
      "Epoch 00023: loss improved from 0.05761 to 0.05617, saving model to best_model.h5\n",
      "Epoch 24/50\n",
      "\n",
      "Epoch 00024: LearningRateScheduler reducing learning rate to 1.0000000000000003e-05.\n",
      "10436/10436 [==============================] - 102s 10ms/step - loss: 0.0542 - accuracy: 0.9809 - val_loss: 0.0235 - val_accuracy: 1.0000\n",
      "\n",
      "Epoch 00024: loss improved from 0.05617 to 0.05504, saving model to best_model.h5\n",
      "Epoch 25/50\n",
      "\n",
      "Epoch 00025: LearningRateScheduler reducing learning rate to 1.0000000000000003e-05.\n",
      "10436/10436 [==============================] - 102s 10ms/step - loss: 0.0541 - accuracy: 0.9807 - val_loss: 0.0240 - val_accuracy: 1.0000\n",
      "\n",
      "Epoch 00025: loss improved from 0.05504 to 0.05498, saving model to best_model.h5\n",
      "Epoch 26/50\n",
      "\n",
      "Epoch 00026: LearningRateScheduler reducing learning rate to 1.0000000000000003e-05.\n",
      "10436/10436 [==============================] - 104s 10ms/step - loss: 0.0532 - accuracy: 0.9813 - val_loss: 0.0232 - val_accuracy: 1.0000\n",
      "\n",
      "Epoch 00026: loss improved from 0.05498 to 0.05338, saving model to best_model.h5\n",
      "Epoch 27/50\n",
      "\n",
      "Epoch 00027: LearningRateScheduler reducing learning rate to 1.0000000000000003e-05.\n",
      "10436/10436 [==============================] - 100s 10ms/step - loss: 0.0526 - accuracy: 0.9811 - val_loss: 0.0195 - val_accuracy: 1.0000\n",
      "\n",
      "Epoch 00027: loss improved from 0.05338 to 0.05297, saving model to best_model.h5\n"
     ]
    },
    {
     "name": "stdout",
     "output_type": "stream",
     "text": [
      "Epoch 28/50\n",
      "\n",
      "Epoch 00028: LearningRateScheduler reducing learning rate to 1.0000000000000003e-05.\n",
      "10436/10436 [==============================] - 99s 9ms/step - loss: 0.0546 - accuracy: 0.9814 - val_loss: 0.0241 - val_accuracy: 1.0000\n",
      "\n",
      "Epoch 00028: loss improved from 0.05297 to 0.05293, saving model to best_model.h5\n",
      "Epoch 29/50\n",
      "\n",
      "Epoch 00029: LearningRateScheduler reducing learning rate to 1.0000000000000003e-05.\n",
      "10436/10436 [==============================] - 105s 10ms/step - loss: 0.0522 - accuracy: 0.9812 - val_loss: 0.0258 - val_accuracy: 1.0000\n",
      "\n",
      "Epoch 00029: loss improved from 0.05293 to 0.05225, saving model to best_model.h5\n",
      "Epoch 30/50\n",
      "\n",
      "Epoch 00030: LearningRateScheduler reducing learning rate to 1.0000000000000003e-05.\n",
      "10436/10436 [==============================] - ETA: 0s - loss: 0.0500 - accuracy: 0.98 - 113s 11ms/step - loss: 0.0500 - accuracy: 0.9815 - val_loss: 0.0263 - val_accuracy: 1.0000\n",
      "\n",
      "Epoch 00030: loss improved from 0.05225 to 0.05174, saving model to best_model.h5\n",
      "Epoch 31/50\n",
      "\n",
      "Epoch 00031: LearningRateScheduler reducing learning rate to 1.0000000000000002e-06.\n",
      "10436/10436 [==============================] - 111s 11ms/step - loss: 0.0501 - accuracy: 0.9822 - val_loss: 0.0260 - val_accuracy: 1.0000\n",
      "\n",
      "Epoch 00031: loss improved from 0.05174 to 0.05003, saving model to best_model.h5\n",
      "Epoch 32/50\n",
      "\n",
      "Epoch 00032: LearningRateScheduler reducing learning rate to 1.0000000000000002e-06.\n",
      "10436/10436 [==============================] - 113s 11ms/step - loss: 0.0514 - accuracy: 0.9823 - val_loss: 0.0263 - val_accuracy: 1.0000\n",
      "\n",
      "Epoch 00032: loss improved from 0.05003 to 0.04986, saving model to best_model.h5\n",
      "Epoch 33/50\n",
      "\n",
      "Epoch 00033: LearningRateScheduler reducing learning rate to 1.0000000000000002e-06.\n",
      "10436/10436 [==============================] - 100s 10ms/step - loss: 0.0500 - accuracy: 0.9821 - val_loss: 0.0247 - val_accuracy: 1.0000\n",
      "\n",
      "Epoch 00033: loss improved from 0.04986 to 0.04948, saving model to best_model.h5\n",
      "Epoch 34/50\n",
      "\n",
      "Epoch 00034: LearningRateScheduler reducing learning rate to 1.0000000000000002e-06.\n",
      "10436/10436 [==============================] - 95s 9ms/step - loss: 0.0486 - accuracy: 0.9823 - val_loss: 0.0251 - val_accuracy: 1.0000\n",
      "\n",
      "Epoch 00034: loss did not improve from 0.04948\n",
      "Epoch 35/50\n",
      "\n",
      "Epoch 00035: LearningRateScheduler reducing learning rate to 1.0000000000000002e-06.\n",
      "10436/10436 [==============================] - 101s 10ms/step - loss: 0.0488 - accuracy: 0.9828 - val_loss: 0.0251 - val_accuracy: 1.0000\n",
      "\n",
      "Epoch 00035: loss improved from 0.04948 to 0.04909, saving model to best_model.h5\n",
      "Epoch 36/50\n",
      "\n",
      "Epoch 00036: LearningRateScheduler reducing learning rate to 1.0000000000000002e-06.\n",
      "10436/10436 [==============================] - 100s 10ms/step - loss: 0.0484 - accuracy: 0.9823 - val_loss: 0.0260 - val_accuracy: 1.0000\n",
      "\n",
      "Epoch 00036: loss did not improve from 0.04909\n",
      "Epoch 00036: early stopping\n"
     ]
    }
   ],
   "source": [
    "history = model.fit(train_generator,\n",
    "                    epochs = 50,\n",
    "                    verbose = 1,\n",
    "                    callbacks = callback,\n",
    "                    validation_data = validation_generator,\n",
    "                    shuffle = True)"
   ]
  },
  {
   "cell_type": "markdown",
   "metadata": {},
   "source": [
    "# Analyze characteristics of training"
   ]
  },
  {
   "cell_type": "code",
   "execution_count": 124,
   "metadata": {},
   "outputs": [
    {
     "name": "stderr",
     "output_type": "stream",
     "text": [
      "The PostScript backend does not support transparency; partially transparent artists will be rendered opaque.\n",
      "The PostScript backend does not support transparency; partially transparent artists will be rendered opaque.\n"
     ]
    },
    {
     "data": {
      "image/png": "[encoded data removed]",
      "text/plain": [
       "<Figure size 432x288 with 1 Axes>"
      ]
     },
     "metadata": {
      "needs_background": "light"
     },
     "output_type": "display_data"
    }
   ],
   "source": [
    "acc = history.history['accuracy']\n",
    "val_acc = history.history['val_accuracy']\n",
    "loss = history.history['loss']\n",
    "val_loss = history.history['val_loss']\n",
    "\n",
    "epochs = range(len(acc))\n",
    "\n",
    "plt.plot(epochs, acc, label='Training accuracy')\n",
    "plt.plot(epochs, val_acc, label='Validation accuracy')\n",
    "plt.title('Training and validation accuracy')\n",
    "\n",
    "# plt.figure()\n",
    "\n",
    "plt.plot(epochs, loss, label='Training Loss')\n",
    "plt.plot(epochs, val_loss, label='Validation Loss')\n",
    "plt.title('Training accuracy and loss')\n",
    "plt.legend()\n",
    "\n",
    "plt.savefig('char.eps')\n",
    "plt.savefig('char.jpg')\n",
    "plt.show()"
   ]
  },
  {
   "cell_type": "markdown",
   "metadata": {},
   "source": [
    "# Accuracy"
   ]
  },
  {
   "cell_type": "code",
   "execution_count": 40,
   "metadata": {},
   "outputs": [
    {
     "name": "stdout",
     "output_type": "stream",
     "text": [
      "10436/10436 [==============================] - 90s 9ms/step - loss: 0.0434 - accuracy: 0.9847\n"
     ]
    },
    {
     "data": {
      "text/plain": [
       "[0.04344954714179039, 0.9846557378768921]"
      ]
     },
     "execution_count": 40,
     "metadata": {},
     "output_type": "execute_result"
    }
   ],
   "source": [
    "model.evaluate(train_generator)"
   ]
  },
  {
   "cell_type": "code",
   "execution_count": 41,
   "metadata": {},
   "outputs": [
    {
     "name": "stdout",
     "output_type": "stream",
     "text": [
      "4/4 [==============================] - 0s 9ms/step - loss: 0.0260 - accuracy: 1.0000\n"
     ]
    },
    {
     "data": {
      "text/plain": [
       "[0.026043299585580826, 1.0]"
      ]
     },
     "execution_count": 41,
     "metadata": {},
     "output_type": "execute_result"
    }
   ],
   "source": [
    "model.evaluate(validation_generator)"
   ]
  },
  {
   "cell_type": "code",
   "execution_count": 42,
   "metadata": {},
   "outputs": [
    {
     "name": "stdout",
     "output_type": "stream",
     "text": [
      "121/121 [==============================] - 1s 11ms/step - loss: 0.0430 - accuracy: 0.9917\n"
     ]
    },
    {
     "data": {
      "text/plain": [
       "[0.04301350563764572, 0.9917355179786682]"
      ]
     },
     "execution_count": 42,
     "metadata": {},
     "output_type": "execute_result"
    }
   ],
   "source": [
    "model.evaluate(test_generator)"
   ]
  },
  {
   "cell_type": "markdown",
   "metadata": {},
   "source": [
    "# Classification Report"
   ]
  },
  {
   "cell_type": "code",
   "execution_count": 44,
   "metadata": {},
   "outputs": [],
   "source": [
    "loaded_model = tf.keras.models.load_model('best_model.h5')"
   ]
  },
  {
   "cell_type": "code",
   "execution_count": 45,
   "metadata": {},
   "outputs": [
    {
     "name": "stdout",
     "output_type": "stream",
     "text": [
      "Model: \"sequential_2\"\n",
      "_________________________________________________________________\n",
      "Layer (type)                 Output Shape              Param #   \n",
      "=================================================================\n",
      "conv2d_20 (Conv2D)           (None, 128, 128, 16)      448       \n",
      "_________________________________________________________________\n",
      "max_pooling2d_10 (MaxPooling (None, 64, 64, 16)        0         \n",
      "_________________________________________________________________\n",
      "conv2d_21 (Conv2D)           (None, 64, 64, 32)        4640      \n",
      "_________________________________________________________________\n",
      "max_pooling2d_11 (MaxPooling (None, 32, 32, 32)        0         \n",
      "_________________________________________________________________\n",
      "conv2d_22 (Conv2D)           (None, 32, 32, 64)        18496     \n",
      "_________________________________________________________________\n",
      "max_pooling2d_12 (MaxPooling (None, 16, 16, 64)        0         \n",
      "_________________________________________________________________\n",
      "conv2d_23 (Conv2D)           (None, 16, 16, 128)       73856     \n",
      "_________________________________________________________________\n",
      "max_pooling2d_13 (MaxPooling (None, 8, 8, 128)         0         \n",
      "_________________________________________________________________\n",
      "conv2d_24 (Conv2D)           (None, 8, 8, 256)         295168    \n",
      "_________________________________________________________________\n",
      "max_pooling2d_14 (MaxPooling (None, 4, 4, 256)         0         \n",
      "_________________________________________________________________\n",
      "flatten_2 (Flatten)          (None, 4096)              0         \n",
      "_________________________________________________________________\n",
      "dense_4 (Dense)              (None, 256)               1048832   \n",
      "_________________________________________________________________\n",
      "dropout_1 (Dropout)          (None, 256)               0         \n",
      "_________________________________________________________________\n",
      "dense_5 (Dense)              (None, 4)                 1028      \n",
      "=================================================================\n",
      "Total params: 1,442,468\n",
      "Trainable params: 1,442,468\n",
      "Non-trainable params: 0\n",
      "_________________________________________________________________\n"
     ]
    }
   ],
   "source": [
    "loaded_model.summary()"
   ]
  },
  {
   "cell_type": "code",
   "execution_count": 58,
   "metadata": {},
   "outputs": [],
   "source": [
    "def pred(test_directory, test_generator, class_no, best_model_address, dim):\n",
    "    \n",
    "    test_class_list = []\n",
    "    for test_name in os.listdir(test_directory):\n",
    "        test = os.path.join(test_directory, test_name)\n",
    "        test_class_list.append(test)\n",
    "    test_class_list.sort()\n",
    "    \n",
    "    y_true = test_generator.classes\n",
    "    labels = test_generator.class_indices\n",
    "    \n",
    "    y_pred = []\n",
    "    tot = len(os.listdir(test_class_list[1]))*class_no\n",
    "\n",
    "    best_model = tf.keras.models.load_model(best_model_address)\n",
    "\n",
    "    \n",
    "    with tqdm(total=tot) as pbar:\n",
    "        for i in range(class_no):\n",
    "            for filename in os.listdir(test_class_list[i]):\n",
    "                file = os.path.join(test_class_list[i], filename)\n",
    "                img = cv2.imread(file)\n",
    "                res = cv2.resize(img, (dim[0], dim[1]))\n",
    "                normed = res / 255.0\n",
    "                im_arr = normed.reshape(1, dim[0], dim[1], dim[2])\n",
    "\n",
    "                pred = best_model.predict(im_arr)\n",
    "                pred_categorical = tf.keras.utils.to_categorical(pred)\n",
    "\n",
    "                if class_no >= 2:\n",
    "                    max_pred = np.argmax(pred)\n",
    "                else:\n",
    "                    max_pred = np.argmax(pred_categorical)\n",
    "\n",
    "                y_pred.append(max_pred)\n",
    "\n",
    "                pbar.set_description(\"Progress\")\n",
    "                pbar.update()\n",
    "                \n",
    "    return y_true, y_pred, labels"
   ]
  },
  {
   "cell_type": "code",
   "execution_count": 60,
   "metadata": {},
   "outputs": [
    {
     "name": "stderr",
     "output_type": "stream",
     "text": [
      "Progress: 100%|██████████| 968/968 [00:44<00:00, 21.62it/s]\n"
     ]
    }
   ],
   "source": [
    "class_no = 4\n",
    "best_model_address = 'model.h5'\n",
    "dim = (128,128,3)\n",
    "y_true, y_pred, labels = pred(test_directory, test_generator, class_no, best_model_address, dim)"
   ]
  },
  {
   "cell_type": "code",
   "execution_count": 95,
   "metadata": {},
   "outputs": [],
   "source": [
    "def report(y_true, y_pred, labels):\n",
    "    from sklearn.metrics import classification_report\n",
    "    from sklearn.metrics import confusion_matrix \n",
    "    \n",
    "    print(\"Calculating CLASSIFICATION REPORT: \")\n",
    "    classification_reports = classification_report(y_true, y_pred, target_names=labels)\n",
    "    print(classification_reports)\n",
    "\n",
    "    print(\"\\nCalculating SENSITIVITY & SPECIFICITY..........:\")\n",
    "    cm = confusion_matrix(y_true, y_pred)\n",
    "    total = sum(sum(cm))\n",
    "\n",
    "    \n",
    "    return cm, classification_reports"
   ]
  },
  {
   "cell_type": "code",
   "execution_count": 96,
   "metadata": {},
   "outputs": [
    {
     "name": "stdout",
     "output_type": "stream",
     "text": [
      "Calculating CLASSIFICATION REPORT: \n",
      "              precision    recall  f1-score   support\n",
      "\n",
      "         CNV       0.98      1.00      0.99       242\n",
      "         DME       1.00      0.98      0.99       242\n",
      "      DRUSEN       1.00      0.99      0.99       242\n",
      "      NORMAL       0.99      1.00      1.00       242\n",
      "\n",
      "    accuracy                           0.99       968\n",
      "   macro avg       0.99      0.99      0.99       968\n",
      "weighted avg       0.99      0.99      0.99       968\n",
      "\n",
      "\n",
      "Calculating SENSITIVITY & SPECIFICITY..........:\n"
     ]
    }
   ],
   "source": [
    "cm, classification_reports  = report(y_true, y_pred, labels)"
   ]
  },
  {
   "cell_type": "code",
   "execution_count": 125,
   "metadata": {},
   "outputs": [],
   "source": [
    "def conf_mat(cm, labels):\n",
    "    fig, ax = plot_confusion_matrix(conf_mat=cm,\n",
    "                                colorbar=True,\n",
    "                                show_absolute=True,\n",
    "                                class_names=labels,\n",
    "                                show_normed=False)\n",
    "\n",
    "#     plt.savefig('confusion-matrix.eps')\n",
    "    plt.savefig('confusion-matrix.jpg')"
   ]
  },
  {
   "cell_type": "code",
   "execution_count": 126,
   "metadata": {},
   "outputs": [
    {
     "data": {
      "image/png": "[encoded data removed]",
      "text/plain": [
       "<Figure size 432x288 with 2 Axes>"
      ]
     },
     "metadata": {
      "needs_background": "light"
     },
     "output_type": "display_data"
    }
   ],
   "source": [
    "conf_mat(cm, labels)"
   ]
  },
  {
   "cell_type": "code",
   "execution_count": null,
   "metadata": {},
   "outputs": [],
   "source": []
  }
 ],
 "metadata": {
  "kernelspec": {
   "display_name": "Python 3",
   "language": "python",
   "name": "python3"
  },
  "language_info": {
   "codemirror_mode": {
    "name": "ipython",
    "version": 3
   },
   "file_extension": ".py",
   "mimetype": "text/x-python",
   "name": "python",
   "nbconvert_exporter": "python",
   "pygments_lexer": "ipython3",
   "version": "3.8.5"
  }
 },
 "nbformat": 4,
 "nbformat_minor": 4
}
