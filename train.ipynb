{
 "cells": [
  {
   "cell_type": "markdown",
   "metadata": {},
   "source": [
    "# Import Libraries"
   ]
  },
  {
   "cell_type": "code",
   "execution_count": 1,
   "metadata": {},
   "outputs": [],
   "source": [
    "# for creating neural network architecture\n",
    "import tensorflow as tf\n",
    "from tensorflow.keras.optimizers import RMSprop\n",
    "from tensorflow.keras.preprocessing.image import ImageDataGenerator\n",
    "\n",
    "# for image processing using OpenCV\n",
    "import cv2\n",
    "\n",
    "# for dataset management\n",
    "import os\n",
    "\n",
    "# for time management\n",
    "from tqdm import tqdm "
   ]
  },
  {
   "cell_type": "markdown",
   "metadata": {},
   "source": [
    "# Setup memory growth for GPU"
   ]
  },
  {
   "cell_type": "code",
   "execution_count": 2,
   "metadata": {},
   "outputs": [],
   "source": [
    "physical_devices = tf.config.experimental.list_physical_devices('GPU')\n",
    "tf.config.experimental.set_memory_growth(physical_devices[0], True)"
   ]
  },
  {
   "cell_type": "markdown",
   "metadata": {},
   "source": [
    "# Load Dataset"
   ]
  },
  {
   "cell_type": "code",
   "execution_count": 3,
   "metadata": {},
   "outputs": [],
   "source": [
    "train_directory = '/mnt/335fff25-d210-4fe2-8249-4ba8b4a17ce4/DATASETS/Shrabana/retina/OCT2017/train'\n",
    "val_directory = '/mnt/335fff25-d210-4fe2-8249-4ba8b4a17ce4/DATASETS/Shrabana/retina/OCT2017/val'\n",
    "test_directory = '/mnt/335fff25-d210-4fe2-8249-4ba8b4a17ce4/DATASETS/Shrabana/retina/OCT2017/test'"
   ]
  },
  {
   "cell_type": "markdown",
   "metadata": {},
   "source": [
    "# Analyze Dataset"
   ]
  },
  {
   "cell_type": "markdown",
   "metadata": {},
   "source": [
    "### Train dataset"
   ]
  },
  {
   "cell_type": "code",
   "execution_count": 4,
   "metadata": {},
   "outputs": [],
   "source": [
    "lis = [100]"
   ]
  },
  {
   "cell_type": "code",
   "execution_count": 5,
   "metadata": {},
   "outputs": [
    {
     "data": {
      "text/plain": [
       "[100]"
      ]
     },
     "execution_count": 5,
     "metadata": {},
     "output_type": "execute_result"
    }
   ],
   "source": [
    "lis"
   ]
  },
  {
   "cell_type": "code",
   "execution_count": 6,
   "metadata": {},
   "outputs": [],
   "source": [
    "for i in range(10):\n",
    "    lis.append(i)"
   ]
  },
  {
   "cell_type": "code",
   "execution_count": 7,
   "metadata": {},
   "outputs": [
    {
     "data": {
      "text/plain": [
       "[100, 0, 1, 2, 3, 4, 5, 6, 7, 8, 9]"
      ]
     },
     "execution_count": 7,
     "metadata": {},
     "output_type": "execute_result"
    }
   ],
   "source": [
    "lis"
   ]
  },
  {
   "cell_type": "markdown",
   "metadata": {},
   "source": [
    "#### Get image data"
   ]
  },
  {
   "cell_type": "code",
   "execution_count": 8,
   "metadata": {},
   "outputs": [
    {
     "name": "stderr",
     "output_type": "stream",
     "text": [
      "Progress: 100%|██████████| 83484/83484 [01:52<00:00, 743.53it/s]\n"
     ]
    }
   ],
   "source": [
    "height_lis = []\n",
    "width_lis = []\n",
    "\n",
    "total = sum([len(files) for r, d, files in os.walk(train_directory)])\n",
    "\n",
    "with tqdm(total=total) as pbar:\n",
    "    for classname in os.listdir(train_directory):\n",
    "        class_dir = os.path.join(train_directory, classname)\n",
    "        for filename in os.listdir(class_dir):\n",
    "            file = os.path.join(class_dir, filename)\n",
    "            img = cv2.imread(file)\n",
    "\n",
    "            height_lis.append(img.shape[0])\n",
    "            width_lis.append(img.shape[1])\n",
    "            \n",
    "            pbar.set_description(\"Progress\")\n",
    "            pbar.update()"
   ]
  },
  {
   "cell_type": "code",
   "execution_count": 9,
   "metadata": {},
   "outputs": [
    {
     "name": "stdout",
     "output_type": "stream",
     "text": [
      "128.0\n",
      "128.0\n",
      "128\n",
      "128\n"
     ]
    }
   ],
   "source": [
    "import numpy as np\n",
    "\n",
    "avg_height = (np.mean(height_lis))\n",
    "avg_width = (np.mean(width_lis))\n",
    "\n",
    "smallest_height = min(height_lis)\n",
    "smallest_width = min(width_lis)\n",
    "\n",
    "print(avg_height)\n",
    "print(avg_width)\n",
    "\n",
    "print(smallest_height)\n",
    "print(smallest_width)"
   ]
  },
  {
   "cell_type": "markdown",
   "metadata": {},
   "source": [
    "#### Resize image"
   ]
  },
  {
   "cell_type": "code",
   "execution_count": 10,
   "metadata": {},
   "outputs": [
    {
     "name": "stderr",
     "output_type": "stream",
     "text": [
      "Progress: 100%|██████████| 83484/83484 [02:51<00:00, 486.44it/s]\n"
     ]
    }
   ],
   "source": [
    "from tqdm import tqdm \n",
    "\n",
    "total = sum([len(files) for r, d, files in os.walk(train_directory)])\n",
    "\n",
    "with tqdm(total=total) as pbar:\n",
    "    for classname in os.listdir(train_directory):\n",
    "        class_dir = os.path.join(train_directory, classname)\n",
    "        for filename in os.listdir(class_dir):\n",
    "            file = os.path.join(class_dir, filename)\n",
    "            img = cv2.imread(file)\n",
    "            res = cv2.resize(img, (128, 128))\n",
    "            cv2.imwrite(file, res)\n",
    "            \n",
    "            pbar.set_description(\"Progress\")\n",
    "            pbar.update()"
   ]
  },
  {
   "cell_type": "markdown",
   "metadata": {},
   "source": [
    "### Validation dataset"
   ]
  },
  {
   "cell_type": "markdown",
   "metadata": {},
   "source": [
    "#### Get image data"
   ]
  },
  {
   "cell_type": "code",
   "execution_count": 11,
   "metadata": {},
   "outputs": [
    {
     "name": "stderr",
     "output_type": "stream",
     "text": [
      "Progress: 100%|██████████| 32/32 [00:00<00:00, 547.17it/s]\n"
     ]
    }
   ],
   "source": [
    "width_lis = []\n",
    "height_lis = []\n",
    "\n",
    "total = sum([len(files) for r, d, files in os.walk(val_directory)])\n",
    "\n",
    "with tqdm(total=total) as pbar:\n",
    "    for classname in os.listdir(val_directory):\n",
    "        class_dir = os.path.join(val_directory, classname)\n",
    "        for filename in os.listdir(class_dir):\n",
    "            file = os.path.join(class_dir, filename)\n",
    "            img = cv2.imread(file)\n",
    "\n",
    "            height_lis.append(img.shape[0])\n",
    "            width_lis.append(img.shape[1])\n",
    "            \n",
    "            pbar.set_description(\"Progress\")\n",
    "            pbar.update()"
   ]
  },
  {
   "cell_type": "code",
   "execution_count": 12,
   "metadata": {},
   "outputs": [
    {
     "name": "stdout",
     "output_type": "stream",
     "text": [
      "(128.0, 0.0)\n",
      "(128.0, 0.0)\n",
      "128\n",
      "128\n"
     ]
    }
   ],
   "source": [
    "import numpy as np\n",
    "\n",
    "avg_height = (np.mean(height_lis), np.std(height_lis))\n",
    "avg_width = (np.mean(width_lis), np.std(width_lis))\n",
    "\n",
    "smallest_height = min(height_lis)\n",
    "smallest_width = min(width_lis)\n",
    "\n",
    "print(avg_height)\n",
    "print(avg_width)\n",
    "\n",
    "print(smallest_height)\n",
    "print(smallest_width)"
   ]
  },
  {
   "cell_type": "markdown",
   "metadata": {},
   "source": [
    "#### Resize image"
   ]
  },
  {
   "cell_type": "code",
   "execution_count": 13,
   "metadata": {},
   "outputs": [
    {
     "name": "stderr",
     "output_type": "stream",
     "text": [
      "Progress: 100%|██████████| 32/32 [00:00<00:00, 398.64it/s]\n"
     ]
    }
   ],
   "source": [
    "from tqdm import tqdm \n",
    "\n",
    "total = sum([len(files) for r, d, files in os.walk(val_directory)])\n",
    "\n",
    "with tqdm(total=total) as pbar:\n",
    "    for classname in os.listdir(val_directory):\n",
    "        class_dir = os.path.join(val_directory, classname)\n",
    "        for filename in os.listdir(class_dir):\n",
    "            file = os.path.join(class_dir, filename)\n",
    "            img = cv2.imread(file)\n",
    "            res = cv2.resize(img, (128, 128))\n",
    "            cv2.imwrite(file, res)\n",
    "            \n",
    "            pbar.set_description(\"Progress\")\n",
    "            pbar.update()"
   ]
  },
  {
   "cell_type": "markdown",
   "metadata": {},
   "source": [
    "### Testing dataset"
   ]
  },
  {
   "cell_type": "markdown",
   "metadata": {},
   "source": [
    "#### Get image data"
   ]
  },
  {
   "cell_type": "code",
   "execution_count": 14,
   "metadata": {},
   "outputs": [
    {
     "name": "stderr",
     "output_type": "stream",
     "text": [
      "Progress: 100%|██████████| 968/968 [00:01<00:00, 574.66it/s]\n"
     ]
    }
   ],
   "source": [
    "width_lis = []\n",
    "height_lis = []\n",
    "\n",
    "total = sum([len(files) for r, d, files in os.walk(test_directory)])\n",
    "\n",
    "with tqdm(total=total) as pbar:\n",
    "    for classname in os.listdir(test_directory):\n",
    "        class_dir = os.path.join(test_directory, classname)\n",
    "        for filename in os.listdir(class_dir):\n",
    "            file = os.path.join(class_dir, filename)\n",
    "            img = cv2.imread(file)\n",
    "\n",
    "            height_lis.append(img.shape[0])\n",
    "            width_lis.append(img.shape[1])\n",
    "            \n",
    "            pbar.set_description(\"Progress\")\n",
    "            pbar.update()"
   ]
  },
  {
   "cell_type": "code",
   "execution_count": 15,
   "metadata": {},
   "outputs": [
    {
     "name": "stdout",
     "output_type": "stream",
     "text": [
      "(128.0, 0.0)\n",
      "(128.0, 0.0)\n",
      "128\n",
      "128\n"
     ]
    }
   ],
   "source": [
    "import numpy as np\n",
    "\n",
    "avg_height = (np.mean(height_lis), np.std(height_lis))\n",
    "avg_width = (np.mean(width_lis), np.std(width_lis))\n",
    "\n",
    "smallest_height = min(height_lis)\n",
    "smallest_width = min(width_lis)\n",
    "\n",
    "print(avg_height)\n",
    "print(avg_width)\n",
    "\n",
    "print(smallest_height)\n",
    "print(smallest_width)"
   ]
  },
  {
   "cell_type": "markdown",
   "metadata": {},
   "source": [
    "#### Resize Image"
   ]
  },
  {
   "cell_type": "code",
   "execution_count": 16,
   "metadata": {},
   "outputs": [
    {
     "name": "stderr",
     "output_type": "stream",
     "text": [
      "Progress: 100%|██████████| 968/968 [00:02<00:00, 380.35it/s]\n"
     ]
    }
   ],
   "source": [
    "from tqdm import tqdm \n",
    "\n",
    "total = sum([len(files) for r, d, files in os.walk(test_directory)])\n",
    "\n",
    "with tqdm(total=total) as pbar:\n",
    "    for classname in os.listdir(test_directory):\n",
    "        class_dir = os.path.join(test_directory, classname)\n",
    "        for filename in os.listdir(class_dir):\n",
    "            file = os.path.join(class_dir, filename)\n",
    "            img = cv2.imread(file)\n",
    "            res = cv2.resize(img, (128, 128))\n",
    "            cv2.imwrite(file, res)\n",
    "            \n",
    "            pbar.set_description(\"Progress\")\n",
    "            pbar.update()"
   ]
  },
  {
   "cell_type": "markdown",
   "metadata": {},
   "source": [
    "# Callbacks"
   ]
  },
  {
   "cell_type": "code",
   "execution_count": 17,
   "metadata": {},
   "outputs": [],
   "source": [
    "learning_rate = 0.001\n",
    "\n",
    "def lr_schedule(epoch):\n",
    "    return learning_rate * (0.1 ** int(epoch / 10))\n",
    "\n",
    "best_model_name = 'model.h5'\n",
    "\n",
    "callback = [tf.keras.callbacks.LearningRateScheduler(lr_schedule, verbose = 1),\n",
    "            tf.keras.callbacks.EarlyStopping(monitor = 'loss', min_delta = 0.001, patience = 5, verbose = 1, mode = \"min\"),\n",
    "            tf.keras.callbacks.ModelCheckpoint(best_model_name, monitor = 'loss', verbose = 1, save_best_only = True, mode = 'min')]"
   ]
  },
  {
   "cell_type": "markdown",
   "metadata": {},
   "source": [
    "# Model Architecture"
   ]
  },
  {
   "cell_type": "code",
   "execution_count": 18,
   "metadata": {},
   "outputs": [],
   "source": [
    "output_activation = 'softmax'\n",
    "output_neurons = 4\n",
    "\n",
    "model = tf.keras.models.Sequential([\n",
    "    # 1st layer\n",
    "    tf.keras.layers.Conv2D(16, (3,3), padding = 'same', activation='relu', input_shape=(128, 128, 3)),\n",
    "#     tf.keras.layers.Conv2D(16, (3,3), padding = 'same', activation='relu', input_shape=(128, 128, 3)),\n",
    "    tf.keras.layers.MaxPooling2D(2, 2),\n",
    "    \n",
    "    # 2nd layer\n",
    "    tf.keras.layers.Conv2D(32, (3,3), padding = 'same', activation='relu'),\n",
    "#     tf.keras.layers.Conv2D(32, (3,3), padding = 'same', activation='relu'),\n",
    "    tf.keras.layers.MaxPooling2D(2,2),\n",
    "    \n",
    "    # 3rd layer\n",
    "    tf.keras.layers.Conv2D(64, (3,3), padding = 'same', activation='relu'),\n",
    "#     tf.keras.layers.Conv2D(64, (3,3), padding = 'same', activation='relu'),\n",
    "    tf.keras.layers.MaxPooling2D(2,2),\n",
    "    \n",
    "    # 4th layer\n",
    "    tf.keras.layers.Conv2D(128, (3,3), padding = 'same', activation='relu'),\n",
    "#     tf.keras.layers.Conv2D(128, (3,3), padding = 'same', activation='relu'),\n",
    "    tf.keras.layers.MaxPooling2D(2,2),\n",
    "    \n",
    "    # 5th layer\n",
    "    tf.keras.layers.Conv2D(256, (3,3), padding = 'same', activation='relu'),\n",
    "#     tf.keras.layers.Conv2D(256, (3,3), padding = 'same', activation='relu'),\n",
    "    tf.keras.layers.MaxPooling2D(2,2),\n",
    "    \n",
    "    # flatten\n",
    "    tf.keras.layers.Flatten(),\n",
    "    \n",
    "    # dense layer\n",
    "    tf.keras.layers.Dense(256, activation='relu'),\n",
    "    tf.keras.layers.Dropout(0.3),\n",
    "    tf.keras.layers.Dense(output_neurons, activation = output_activation)\n",
    "])\n"
   ]
  },
  {
   "cell_type": "code",
   "execution_count": 19,
   "metadata": {},
   "outputs": [
    {
     "name": "stdout",
     "output_type": "stream",
     "text": [
      "Model: \"sequential\"\n",
      "_________________________________________________________________\n",
      "Layer (type)                 Output Shape              Param #   \n",
      "=================================================================\n",
      "conv2d (Conv2D)              (None, 128, 128, 16)      448       \n",
      "_________________________________________________________________\n",
      "max_pooling2d (MaxPooling2D) (None, 64, 64, 16)        0         \n",
      "_________________________________________________________________\n",
      "conv2d_1 (Conv2D)            (None, 64, 64, 32)        4640      \n",
      "_________________________________________________________________\n",
      "max_pooling2d_1 (MaxPooling2 (None, 32, 32, 32)        0         \n",
      "_________________________________________________________________\n",
      "conv2d_2 (Conv2D)            (None, 32, 32, 64)        18496     \n",
      "_________________________________________________________________\n",
      "max_pooling2d_2 (MaxPooling2 (None, 16, 16, 64)        0         \n",
      "_________________________________________________________________\n",
      "conv2d_3 (Conv2D)            (None, 16, 16, 128)       73856     \n",
      "_________________________________________________________________\n",
      "max_pooling2d_3 (MaxPooling2 (None, 8, 8, 128)         0         \n",
      "_________________________________________________________________\n",
      "conv2d_4 (Conv2D)            (None, 8, 8, 256)         295168    \n",
      "_________________________________________________________________\n",
      "max_pooling2d_4 (MaxPooling2 (None, 4, 4, 256)         0         \n",
      "_________________________________________________________________\n",
      "flatten (Flatten)            (None, 4096)              0         \n",
      "_________________________________________________________________\n",
      "dense (Dense)                (None, 256)               1048832   \n",
      "_________________________________________________________________\n",
      "dropout (Dropout)            (None, 256)               0         \n",
      "_________________________________________________________________\n",
      "dense_1 (Dense)              (None, 4)                 1028      \n",
      "=================================================================\n",
      "Total params: 1,442,468\n",
      "Trainable params: 1,442,468\n",
      "Non-trainable params: 0\n",
      "_________________________________________________________________\n"
     ]
    }
   ],
   "source": [
    "model.summary()"
   ]
  },
  {
   "cell_type": "code",
   "execution_count": 21,
   "metadata": {},
   "outputs": [],
   "source": [
    "loss = 'categorical_crossentropy'\n",
    "# optimizer = RMSprop(lr=learning_rate)\n",
    "optimizer = tf.keras.optimizers.Adam(learning_rate = learning_rate, beta_1 = 0.9, beta_2 = 0.999, amsgrad = False)\n",
    "\n",
    "\n",
    "model.compile(loss = loss,\n",
    "              optimizer = optimizer,\n",
    "              metrics=['accuracy',\n",
    "              tf.keras.metrics.TruePositives(), \n",
    "              tf.keras.metrics.TrueNegatives(), \n",
    "              tf.keras.metrics.FalsePositives(),\n",
    "              tf.keras.metrics.FalseNegatives()])"
   ]
  },
  {
   "cell_type": "markdown",
   "metadata": {},
   "source": [
    "# Configure Image Data Generator"
   ]
  },
  {
   "cell_type": "code",
   "execution_count": 22,
   "metadata": {},
   "outputs": [
    {
     "name": "stdout",
     "output_type": "stream",
     "text": [
      "Found 83484 images belonging to 4 classes.\n",
      "Found 32 images belonging to 4 classes.\n",
      "Found 968 images belonging to 4 classes.\n"
     ]
    }
   ],
   "source": [
    "class_mode = 'categorical'\n",
    "batch_size = 8\n",
    "target_size = (128,128)\n",
    "\n",
    "\n",
    "train_datagen = ImageDataGenerator(rescale=1.0/255.0)\n",
    "train_generator = train_datagen.flow_from_directory(train_directory,\n",
    "                                                    batch_size = batch_size,\n",
    "                                                    class_mode = class_mode,\n",
    "                                                    target_size = target_size)\n",
    "\n",
    "val_datagen = ImageDataGenerator(rescale=1.0/255.0)\n",
    "validation_generator = val_datagen.flow_from_directory(val_directory,\n",
    "                                                    batch_size = batch_size,\n",
    "                                                    class_mode = class_mode,\n",
    "                                                    target_size = target_size)\n",
    "\n",
    "test_datagen = ImageDataGenerator(rescale=1.0/255.0)\n",
    "test_generator = test_datagen.flow_from_directory(test_directory,\n",
    "                                                    batch_size = batch_size,\n",
    "                                                    class_mode = class_mode,\n",
    "                                                    target_size = target_size)"
   ]
  },
  {
   "cell_type": "markdown",
   "metadata": {},
   "source": [
    "# Train "
   ]
  },
  {
   "cell_type": "code",
   "execution_count": 23,
   "metadata": {},
   "outputs": [
    {
     "name": "stdout",
     "output_type": "stream",
     "text": [
      "Epoch 1/50\n",
      "\n",
      "Epoch 00001: LearningRateScheduler reducing learning rate to 0.001.\n",
      "10436/10436 [==============================] - 115s 10ms/step - loss: 0.7227 - accuracy: 0.7216 - true_positives: 28606.4698 - true_negatives: 120051.6967 - false_positives: 5201.1047 - false_negatives: 13144.4640 - val_loss: 0.2565 - val_accuracy: 0.8438 - val_true_positives: 27.0000 - val_true_negatives: 93.0000 - val_false_positives: 3.0000 - val_false_negatives: 5.0000\n",
      "\n",
      "Epoch 00001: loss improved from inf to 0.54892, saving model to model.h5\n",
      "Epoch 2/50\n",
      "\n",
      "Epoch 00002: LearningRateScheduler reducing learning rate to 0.001.\n",
      "10436/10436 [==============================] - 115s 11ms/step - loss: 0.3560 - accuracy: 0.8747 - true_positives: 36071.3554 - true_negatives: 120892.8519 - false_positives: 4359.3206 - false_negatives: 5679.3688 - val_loss: 0.2146 - val_accuracy: 0.8750 - val_true_positives: 28.0000 - val_true_negatives: 92.0000 - val_false_positives: 4.0000 - val_false_negatives: 4.0000\n",
      "\n",
      "Epoch 00002: loss improved from 0.54892 to 0.33458, saving model to model.h5\n",
      "Epoch 3/50\n",
      "\n",
      "Epoch 00003: LearningRateScheduler reducing learning rate to 0.001.\n",
      "10436/10436 [==============================] - 133s 13ms/step - loss: 0.2770 - accuracy: 0.9059 - true_positives: 37479.4582 - true_negatives: 121719.1215 - false_positives: 3527.7759 - false_negatives: 4269.5076 - val_loss: 0.0543 - val_accuracy: 1.0000 - val_true_positives: 32.0000 - val_true_negatives: 96.0000 - val_false_positives: 0.0000e+00 - val_false_negatives: 0.0000e+00\n",
      "\n",
      "Epoch 00003: loss improved from 0.33458 to 0.27480, saving model to model.h5\n",
      "Epoch 4/50\n",
      "\n",
      "Epoch 00004: LearningRateScheduler reducing learning rate to 0.001.\n",
      "10436/10436 [==============================] - 126s 12ms/step - loss: 0.2517 - accuracy: 0.9150 - true_positives: 37915.7464 - true_negatives: 122011.0986 - false_positives: 3241.0785 - false_negatives: 3834.9793 - val_loss: 0.1168 - val_accuracy: 0.9375 - val_true_positives: 30.0000 - val_true_negatives: 94.0000 - val_false_positives: 2.0000 - val_false_negatives: 2.0000\n",
      "\n",
      "Epoch 00004: loss improved from 0.27480 to 0.24948, saving model to model.h5\n",
      "Epoch 5/50\n",
      "\n",
      "Epoch 00005: LearningRateScheduler reducing learning rate to 0.001.\n",
      "10436/10436 [==============================] - 119s 11ms/step - loss: 0.2343 - accuracy: 0.9211 - true_positives: 38226.7521 - true_negatives: 122220.1407 - false_positives: 3026.0324 - false_negatives: 3521.9722 - val_loss: 0.0379 - val_accuracy: 1.0000 - val_true_positives: 32.0000 - val_true_negatives: 96.0000 - val_false_positives: 0.0000e+00 - val_false_negatives: 0.0000e+00\n",
      "\n",
      "Epoch 00005: loss improved from 0.24948 to 0.23381, saving model to model.h5\n",
      "Epoch 6/50\n",
      "\n",
      "Epoch 00006: LearningRateScheduler reducing learning rate to 0.001.\n",
      "10436/10436 [==============================] - 101s 10ms/step - loss: 0.2243 - accuracy: 0.9242 - true_positives: 38393.9540 - true_negatives: 122355.4240 - false_positives: 2891.2423 - false_negatives: 3354.9348 - val_loss: 0.0344 - val_accuracy: 1.0000 - val_true_positives: 32.0000 - val_true_negatives: 96.0000 - val_false_positives: 0.0000e+00 - val_false_negatives: 0.0000e+00\n",
      "\n",
      "Epoch 00006: loss improved from 0.23381 to 0.22351, saving model to model.h5\n",
      "Epoch 7/50\n",
      "\n",
      "Epoch 00007: LearningRateScheduler reducing learning rate to 0.001.\n",
      "10436/10436 [==============================] - 101s 10ms/step - loss: 0.2169 - accuracy: 0.9293 - true_positives: 38552.6427 - true_negatives: 122495.6398 - false_positives: 2760.3050 - false_negatives: 3199.3389 - val_loss: 0.0546 - val_accuracy: 0.9688 - val_true_positives: 31.0000 - val_true_negatives: 95.0000 - val_false_positives: 1.0000 - val_false_negatives: 1.0000\n",
      "\n",
      "Epoch 00007: loss improved from 0.22351 to 0.21933, saving model to model.h5\n",
      "Epoch 8/50\n",
      "\n",
      "Epoch 00008: LearningRateScheduler reducing learning rate to 0.001.\n",
      "10436/10436 [==============================] - 96s 9ms/step - loss: 0.2063 - accuracy: 0.9306 - true_positives: 38663.9924 - true_negatives: 122524.5690 - false_positives: 2720.1657 - false_negatives: 3084.2525 - val_loss: 0.0973 - val_accuracy: 0.9688 - val_true_positives: 31.0000 - val_true_negatives: 95.0000 - val_false_positives: 1.0000 - val_false_negatives: 1.0000\n",
      "\n",
      "Epoch 00008: loss improved from 0.21933 to 0.20988, saving model to model.h5\n",
      "Epoch 9/50\n",
      "\n",
      "Epoch 00009: LearningRateScheduler reducing learning rate to 0.001.\n",
      "10436/10436 [==============================] - 99s 10ms/step - loss: 0.2094 - accuracy: 0.9333 - true_positives: 38737.8467 - true_negatives: 122629.1091 - false_positives: 2622.1539 - false_negatives: 3012.5743 - val_loss: 0.0861 - val_accuracy: 0.9688 - val_true_positives: 31.0000 - val_true_negatives: 95.0000 - val_false_positives: 1.0000 - val_false_negatives: 1.0000\n",
      "\n",
      "Epoch 00009: loss improved from 0.20988 to 0.20976, saving model to model.h5\n",
      "Epoch 10/50\n",
      "\n",
      "Epoch 00010: LearningRateScheduler reducing learning rate to 0.001.\n",
      "10436/10436 [==============================] - 117s 11ms/step - loss: 0.1942 - accuracy: 0.9341 - true_positives: 38769.0838 - true_negatives: 122624.4493 - false_positives: 2628.5752 - false_negatives: 2981.9243 - val_loss: 0.0683 - val_accuracy: 0.9688 - val_true_positives: 31.0000 - val_true_negatives: 95.0000 - val_false_positives: 1.0000 - val_false_negatives: 1.0000\n",
      "\n",
      "Epoch 00010: loss improved from 0.20976 to 0.20211, saving model to model.h5\n",
      "Epoch 11/50\n",
      "\n",
      "Epoch 00011: LearningRateScheduler reducing learning rate to 0.0001.\n",
      "10436/10436 [==============================] - 122s 12ms/step - loss: 0.1413 - accuracy: 0.9513 - true_positives: 39695.8834 - true_negatives: 123384.5225 - false_positives: 1867.1545 - false_negatives: 2054.6756 - val_loss: 0.0231 - val_accuracy: 1.0000 - val_true_positives: 32.0000 - val_true_negatives: 96.0000 - val_false_positives: 0.0000e+00 - val_false_negatives: 0.0000e+00\n",
      "\n",
      "Epoch 00011: loss improved from 0.20211 to 0.13433, saving model to model.h5\n",
      "Epoch 12/50\n",
      "\n",
      "Epoch 00012: LearningRateScheduler reducing learning rate to 0.0001.\n",
      "10436/10436 [==============================] - 103s 10ms/step - loss: 0.1200 - accuracy: 0.9584 - true_positives: 39944.7221 - true_negatives: 123603.3847 - false_positives: 1651.3218 - false_negatives: 1806.8467 - val_loss: 0.0316 - val_accuracy: 1.0000 - val_true_positives: 32.0000 - val_true_negatives: 96.0000 - val_false_positives: 0.0000e+00 - val_false_negatives: 0.0000e+00\n",
      "\n",
      "Epoch 00012: loss improved from 0.13433 to 0.11702, saving model to model.h5\n",
      "Epoch 13/50\n",
      "\n",
      "Epoch 00013: LearningRateScheduler reducing learning rate to 0.0001.\n",
      "10436/10436 [==============================] - 96s 9ms/step - loss: 0.1088 - accuracy: 0.9631 - true_positives: 40103.1510 - true_negatives: 123752.5562 - false_positives: 1502.2607 - false_negatives: 1648.4546 - val_loss: 0.0154 - val_accuracy: 1.0000 - val_true_positives: 32.0000 - val_true_negatives: 96.0000 - val_false_positives: 0.0000e+00 - val_false_negatives: 0.0000e+00\n",
      "\n",
      "Epoch 00013: loss improved from 0.11702 to 0.10854, saving model to model.h5\n",
      "Epoch 14/50\n",
      "\n",
      "Epoch 00014: LearningRateScheduler reducing learning rate to 0.0001.\n",
      "10436/10436 [==============================] - 90s 9ms/step - loss: 0.0994 - accuracy: 0.9644 - true_positives: 40210.5071 - true_negatives: 123808.5833 - false_positives: 1435.7708 - false_negatives: 1537.6109 - val_loss: 0.0151 - val_accuracy: 1.0000 - val_true_positives: 32.0000 - val_true_negatives: 96.0000 - val_false_positives: 0.0000e+00 - val_false_negatives: 0.0000e+00\n",
      "\n",
      "Epoch 00014: loss improved from 0.10854 to 0.10182, saving model to model.h5\n",
      "Epoch 15/50\n",
      "\n",
      "Epoch 00015: LearningRateScheduler reducing learning rate to 0.0001.\n",
      "10436/10436 [==============================] - 89s 9ms/step - loss: 0.0919 - accuracy: 0.9682 - true_positives: 40334.9291 - true_negatives: 123933.3433 - false_positives: 1321.8197 - false_negatives: 1416.7919 - val_loss: 0.0064 - val_accuracy: 1.0000 - val_true_positives: 32.0000 - val_true_negatives: 96.0000 - val_false_positives: 0.0000e+00 - val_false_negatives: 0.0000e+00\n",
      "\n",
      "Epoch 00015: loss improved from 0.10182 to 0.09523, saving model to model.h5\n",
      "Epoch 16/50\n",
      "\n",
      "Epoch 00016: LearningRateScheduler reducing learning rate to 0.0001.\n",
      "10436/10436 [==============================] - 88s 8ms/step - loss: 0.0877 - accuracy: 0.9680 - true_positives: 40376.4424 - true_negatives: 123972.8879 - false_positives: 1280.8160 - false_negatives: 1374.7923 - val_loss: 0.0182 - val_accuracy: 1.0000 - val_true_positives: 32.0000 - val_true_negatives: 96.0000 - val_false_positives: 0.0000e+00 - val_false_negatives: 0.0000e+00\n",
      "\n",
      "Epoch 00016: loss improved from 0.09523 to 0.08951, saving model to model.h5\n",
      "Epoch 17/50\n",
      "\n",
      "Epoch 00017: LearningRateScheduler reducing learning rate to 0.0001.\n",
      "10436/10436 [==============================] - 89s 8ms/step - loss: 0.0819 - accuracy: 0.9706 - true_positives: 40472.2258 - true_negatives: 124052.9783 - false_positives: 1200.8406 - false_negatives: 1279.0471 - val_loss: 0.0090 - val_accuracy: 1.0000 - val_true_positives: 32.0000 - val_true_negatives: 96.0000 - val_false_positives: 0.0000e+00 - val_false_negatives: 0.0000e+00\n",
      "\n",
      "Epoch 00017: loss improved from 0.08951 to 0.08482, saving model to model.h5\n",
      "Epoch 18/50\n",
      "\n",
      "Epoch 00018: LearningRateScheduler reducing learning rate to 0.0001.\n",
      "10436/10436 [==============================] - 88s 8ms/step - loss: 0.0770 - accuracy: 0.9729 - true_positives: 40565.3904 - true_negatives: 124127.3407 - false_positives: 1120.0856 - false_negatives: 1183.7517 - val_loss: 0.0038 - val_accuracy: 1.0000 - val_true_positives: 32.0000 - val_true_negatives: 96.0000 - val_false_positives: 0.0000e+00 - val_false_negatives: 0.0000e+00\n",
      "\n",
      "Epoch 00018: loss improved from 0.08482 to 0.07977, saving model to model.h5\n",
      "Epoch 19/50\n",
      "\n",
      "Epoch 00019: LearningRateScheduler reducing learning rate to 0.0001.\n",
      "10436/10436 [==============================] - 89s 8ms/step - loss: 0.0737 - accuracy: 0.9732 - true_positives: 40584.7210 - true_negatives: 124163.2689 - false_positives: 1086.5938 - false_negatives: 1165.2332 - val_loss: 0.0164 - val_accuracy: 1.0000 - val_true_positives: 32.0000 - val_true_negatives: 96.0000 - val_false_positives: 0.0000e+00 - val_false_negatives: 0.0000e+00\n",
      "\n",
      "Epoch 00019: loss improved from 0.07977 to 0.07566, saving model to model.h5\n",
      "Epoch 20/50\n",
      "\n",
      "Epoch 00020: LearningRateScheduler reducing learning rate to 0.0001.\n",
      "10436/10436 [==============================] - 94s 9ms/step - loss: 0.0681 - accuracy: 0.9756 - true_positives: 40667.3880 - true_negatives: 124230.2697 - false_positives: 1020.3747 - false_negatives: 1082.8268 - val_loss: 0.0064 - val_accuracy: 1.0000 - val_true_positives: 32.0000 - val_true_negatives: 96.0000 - val_false_positives: 0.0000e+00 - val_false_negatives: 0.0000e+00\n",
      "\n",
      "Epoch 00020: loss improved from 0.07566 to 0.07126, saving model to model.h5\n",
      "Epoch 21/50\n",
      "\n",
      "Epoch 00021: LearningRateScheduler reducing learning rate to 1.0000000000000003e-05.\n",
      "10436/10436 [==============================] - 91s 9ms/step - loss: 0.0626 - accuracy: 0.9771 - true_positives: 40802.6335 - true_negatives: 124348.0677 - false_positives: 904.9348 - false_negatives: 948.3673 - val_loss: 0.0079 - val_accuracy: 1.0000 - val_true_positives: 32.0000 - val_true_negatives: 96.0000 - val_false_positives: 0.0000e+00 - val_false_negatives: 0.0000e+00\n",
      "\n",
      "Epoch 00021: loss improved from 0.07126 to 0.06140, saving model to model.h5\n",
      "Epoch 22/50\n",
      "\n",
      "Epoch 00022: LearningRateScheduler reducing learning rate to 1.0000000000000003e-05.\n",
      "10436/10436 [==============================] - 102s 10ms/step - loss: 0.0603 - accuracy: 0.9779 - true_positives: 40813.0126 - true_negatives: 124361.0109 - false_positives: 892.5527 - false_negatives: 938.1752 - val_loss: 0.0088 - val_accuracy: 1.0000 - val_true_positives: 32.0000 - val_true_negatives: 96.0000 - val_false_positives: 0.0000e+00 - val_false_negatives: 0.0000e+00\n",
      "\n",
      "Epoch 00022: loss improved from 0.06140 to 0.05990, saving model to model.h5\n",
      "Epoch 23/50\n",
      "\n",
      "Epoch 00023: LearningRateScheduler reducing learning rate to 1.0000000000000003e-05.\n",
      "10436/10436 [==============================] - 105s 10ms/step - loss: 0.0567 - accuracy: 0.9789 - true_positives: 40844.2260 - true_negatives: 124386.3221 - false_positives: 857.9331 - false_negatives: 903.8591 - val_loss: 0.0078 - val_accuracy: 1.0000 - val_true_positives: 32.0000 - val_true_negatives: 96.0000 - val_false_positives: 0.0000e+00 - val_false_negatives: 0.0000e+00\n",
      "\n",
      "Epoch 00023: loss improved from 0.05990 to 0.05782, saving model to model.h5\n",
      "Epoch 24/50\n",
      "\n",
      "Epoch 00024: LearningRateScheduler reducing learning rate to 1.0000000000000003e-05.\n",
      "10436/10436 [==============================] - 101s 10ms/step - loss: 0.0565 - accuracy: 0.9788 - true_positives: 40848.9550 - true_negatives: 124394.9028 - false_positives: 858.0170 - false_negatives: 902.0183 - val_loss: 0.0065 - val_accuracy: 1.0000 - val_true_positives: 32.0000 - val_true_negatives: 96.0000 - val_false_positives: 0.0000e+00 - val_false_negatives: 0.0000e+00\n",
      "\n",
      "Epoch 00024: loss improved from 0.05782 to 0.05749, saving model to model.h5\n",
      "Epoch 25/50\n",
      "\n",
      "Epoch 00025: LearningRateScheduler reducing learning rate to 1.0000000000000003e-05.\n",
      "10436/10436 [==============================] - 102s 10ms/step - loss: 0.0572 - accuracy: 0.9791 - true_positives: 40864.6304 - true_negatives: 124409.3353 - false_positives: 841.6253 - false_negatives: 885.6898 - val_loss: 0.0067 - val_accuracy: 1.0000 - val_true_positives: 32.0000 - val_true_negatives: 96.0000 - val_false_positives: 0.0000e+00 - val_false_negatives: 0.0000e+00\n",
      "\n",
      "Epoch 00025: loss improved from 0.05749 to 0.05740, saving model to model.h5\n",
      "Epoch 26/50\n",
      "\n",
      "Epoch 00026: LearningRateScheduler reducing learning rate to 1.0000000000000003e-05.\n",
      "10436/10436 [==============================] - 101s 10ms/step - loss: 0.0554 - accuracy: 0.9800 - true_positives: 40893.6030 - true_negatives: 124430.3881 - false_positives: 819.9919 - false_negatives: 856.5237 - val_loss: 0.0063 - val_accuracy: 1.0000 - val_true_positives: 32.0000 - val_true_negatives: 96.0000 - val_false_positives: 0.0000e+00 - val_false_negatives: 0.0000e+00\n",
      "\n",
      "Epoch 00026: loss improved from 0.05740 to 0.05525, saving model to model.h5\n",
      "Epoch 27/50\n",
      "\n",
      "Epoch 00027: LearningRateScheduler reducing learning rate to 1.0000000000000003e-05.\n",
      "10436/10436 [==============================] - 102s 10ms/step - loss: 0.0548 - accuracy: 0.9806 - true_positives: 40915.3960 - true_negatives: 124447.9045 - false_positives: 801.3614 - false_negatives: 834.3593 - val_loss: 0.0086 - val_accuracy: 1.0000 - val_true_positives: 32.0000 - val_true_negatives: 96.0000 - val_false_positives: 0.0000e+00 - val_false_negatives: 0.0000e+00\n",
      "\n",
      "Epoch 00027: loss improved from 0.05525 to 0.05457, saving model to model.h5\n",
      "Epoch 28/50\n",
      "\n",
      "Epoch 00028: LearningRateScheduler reducing learning rate to 1.0000000000000003e-05.\n",
      "10436/10436 [==============================] - 100s 10ms/step - loss: 0.0532 - accuracy: 0.9805 - true_positives: 40894.0772 - true_negatives: 124433.0052 - false_positives: 815.1914 - false_negatives: 855.3216 - val_loss: 0.0063 - val_accuracy: 1.0000 - val_true_positives: 32.0000 - val_true_negatives: 96.0000 - val_false_positives: 0.0000e+00 - val_false_negatives: 0.0000e+00\n",
      "\n",
      "Epoch 00028: loss improved from 0.05457 to 0.05420, saving model to model.h5\n",
      "Epoch 29/50\n",
      "\n",
      "Epoch 00029: LearningRateScheduler reducing learning rate to 1.0000000000000003e-05.\n",
      "10436/10436 [==============================] - 96s 9ms/step - loss: 0.0536 - accuracy: 0.9807 - true_positives: 40918.4373 - true_negatives: 124467.6430 - false_positives: 783.3993 - false_negatives: 831.9101 - val_loss: 0.0159 - val_accuracy: 1.0000 - val_true_positives: 32.0000 - val_true_negatives: 96.0000 - val_false_positives: 0.0000e+00 - val_false_negatives: 0.0000e+00\n",
      "\n",
      "Epoch 00029: loss improved from 0.05420 to 0.05404, saving model to model.h5\n",
      "Epoch 30/50\n",
      "\n",
      "Epoch 00030: LearningRateScheduler reducing learning rate to 1.0000000000000003e-05.\n",
      "10436/10436 [==============================] - 99s 10ms/step - loss: 0.0538 - accuracy: 0.9800 - true_positives: 40901.4360 - true_negatives: 124443.1730 - false_positives: 809.6594 - false_negatives: 849.5081 - val_loss: 0.0052 - val_accuracy: 1.0000 - val_true_positives: 32.0000 - val_true_negatives: 96.0000 - val_false_positives: 0.0000e+00 - val_false_negatives: 0.0000e+00\n",
      "\n",
      "Epoch 00030: loss improved from 0.05404 to 0.05291, saving model to model.h5\n",
      "Epoch 31/50\n",
      "\n",
      "Epoch 00031: LearningRateScheduler reducing learning rate to 1.0000000000000002e-06.\n"
     ]
    },
    {
     "name": "stdout",
     "output_type": "stream",
     "text": [
      "10436/10436 [==============================] - 103s 10ms/step - loss: 0.0528 - accuracy: 0.9795 - true_positives: 40893.4751 - true_negatives: 124436.0339 - false_positives: 811.8339 - false_negatives: 855.8141 - val_loss: 0.0079 - val_accuracy: 1.0000 - val_true_positives: 32.0000 - val_true_negatives: 96.0000 - val_false_positives: 0.0000e+00 - val_false_negatives: 0.0000e+00\n",
      "\n",
      "Epoch 00031: loss improved from 0.05291 to 0.05137, saving model to model.h5\n",
      "Epoch 32/50\n",
      "\n",
      "Epoch 00032: LearningRateScheduler reducing learning rate to 1.0000000000000002e-06.\n",
      "10436/10436 [==============================] - 106s 10ms/step - loss: 0.0526 - accuracy: 0.9814 - true_positives: 40944.9702 - true_negatives: 124484.1211 - false_positives: 764.9953 - false_negatives: 804.7353 - val_loss: 0.0082 - val_accuracy: 1.0000 - val_true_positives: 32.0000 - val_true_negatives: 96.0000 - val_false_positives: 0.0000e+00 - val_false_negatives: 0.0000e+00\n",
      "\n",
      "Epoch 00032: loss did not improve from 0.05137\n",
      "Epoch 33/50\n",
      "\n",
      "Epoch 00033: LearningRateScheduler reducing learning rate to 1.0000000000000002e-06.\n",
      "10436/10436 [==============================] - 100s 10ms/step - loss: 0.0498 - accuracy: 0.9816 - true_positives: 40961.0401 - true_negatives: 124496.8402 - false_positives: 759.1138 - false_negatives: 790.9445 - val_loss: 0.0074 - val_accuracy: 1.0000 - val_true_positives: 32.0000 - val_true_negatives: 96.0000 - val_false_positives: 0.0000e+00 - val_false_negatives: 0.0000e+00\n",
      "\n",
      "Epoch 00033: loss did not improve from 0.05137\n",
      "Epoch 34/50\n",
      "\n",
      "Epoch 00034: LearningRateScheduler reducing learning rate to 1.0000000000000002e-06.\n",
      "10436/10436 [==============================] - 100s 10ms/step - loss: 0.0529 - accuracy: 0.9807 - true_positives: 40934.8524 - true_negatives: 124474.2272 - false_positives: 778.3006 - false_negatives: 815.9901 - val_loss: 0.0080 - val_accuracy: 1.0000 - val_true_positives: 32.0000 - val_true_negatives: 96.0000 - val_false_positives: 0.0000e+00 - val_false_negatives: 0.0000e+00\n",
      "\n",
      "Epoch 00034: loss did not improve from 0.05137\n",
      "Epoch 35/50\n",
      "\n",
      "Epoch 00035: LearningRateScheduler reducing learning rate to 1.0000000000000002e-06.\n",
      "10436/10436 [==============================] - 95s 9ms/step - loss: 0.0519 - accuracy: 0.9807 - true_positives: 40921.1960 - true_negatives: 124459.7742 - false_positives: 788.3144 - false_negatives: 828.1668 - val_loss: 0.0082 - val_accuracy: 1.0000 - val_true_positives: 32.0000 - val_true_negatives: 96.0000 - val_false_positives: 0.0000e+00 - val_false_negatives: 0.0000e+00\n",
      "\n",
      "Epoch 00035: loss did not improve from 0.05137\n",
      "Epoch 36/50\n",
      "\n",
      "Epoch 00036: LearningRateScheduler reducing learning rate to 1.0000000000000002e-06.\n",
      "10436/10436 [==============================] - 92s 9ms/step - loss: 0.0511 - accuracy: 0.9817 - true_positives: 40953.2592 - true_negatives: 124484.6052 - false_positives: 763.5052 - false_negatives: 796.1110 - val_loss: 0.0098 - val_accuracy: 1.0000 - val_true_positives: 32.0000 - val_true_negatives: 96.0000 - val_false_positives: 0.0000e+00 - val_false_negatives: 0.0000e+00\n",
      "\n",
      "Epoch 00036: loss did not improve from 0.05137\n",
      "Epoch 00036: early stopping\n"
     ]
    }
   ],
   "source": [
    "history = model.fit(train_generator,\n",
    "                    epochs = 50,\n",
    "                    verbose = 1,\n",
    "                    callbacks = callback,\n",
    "                    validation_data = validation_generator,\n",
    "                    shuffle = True)"
   ]
  },
  {
   "cell_type": "markdown",
   "metadata": {},
   "source": [
    "# Analyze characteristics of training"
   ]
  },
  {
   "cell_type": "code",
   "execution_count": 24,
   "metadata": {},
   "outputs": [],
   "source": [
    "acc = history.history['accuracy']\n",
    "val_acc = history.history['val_accuracy']\n",
    "loss = history.history['loss']\n",
    "val_loss = history.history['val_loss']\n",
    "\n",
    "epochs = range(len(acc))"
   ]
  },
  {
   "cell_type": "code",
   "execution_count": 25,
   "metadata": {},
   "outputs": [
    {
     "name": "stderr",
     "output_type": "stream",
     "text": [
      "The PostScript backend does not support transparency; partially transparent artists will be rendered opaque.\n",
      "The PostScript backend does not support transparency; partially transparent artists will be rendered opaque.\n"
     ]
    },
    {
     "data": {
      "image/png": "[encoded data removed]",
      "text/plain": [
       "<Figure size 432x288 with 1 Axes>"
      ]
     },
     "metadata": {
      "needs_background": "light"
     },
     "output_type": "display_data"
    }
   ],
   "source": [
    "import matplotlib.pyplot as plt\n",
    "\n",
    "plt.plot(epochs, acc, label='Training accuracy')\n",
    "plt.plot(epochs, val_acc, label='Validation accuracy')\n",
    "plt.title('Training and validation accuracy')\n",
    "\n",
    "plt.plot(epochs, loss, label='Training Loss')\n",
    "plt.plot(epochs, val_loss, label='Validation Loss')\n",
    "plt.title('Training accuracy and loss')\n",
    "\n",
    "plt.xlabel('Epochs')\n",
    "\n",
    "plt.legend()\n",
    "\n",
    "plt.savefig('char.eps')\n",
    "plt.savefig('char.jpg')\n",
    "# plt.show()"
   ]
  },
  {
   "cell_type": "markdown",
   "metadata": {},
   "source": [
    "# Accuracy"
   ]
  },
  {
   "cell_type": "code",
   "execution_count": 26,
   "metadata": {},
   "outputs": [
    {
     "name": "stdout",
     "output_type": "stream",
     "text": [
      "10436/10436 [==============================] - 86s 8ms/step - loss: 0.0454 - accuracy: 0.9834 - true_positives: 82080.0000 - true_negatives: 249096.0000 - false_positives: 1356.0000 - false_negatives: 1404.0000\n",
      "Training accuracy: 0.9834339618682861\n"
     ]
    }
   ],
   "source": [
    "print(\"Training accuracy: {}\".format(model.evaluate(train_generator)[1]))"
   ]
  },
  {
   "cell_type": "code",
   "execution_count": 27,
   "metadata": {},
   "outputs": [
    {
     "name": "stdout",
     "output_type": "stream",
     "text": [
      "4/4 [==============================] - 0s 11ms/step - loss: 0.0098 - accuracy: 1.0000 - true_positives: 32.0000 - true_negatives: 96.0000 - false_positives: 0.0000e+00 - false_negatives: 0.0000e+00\n",
      "Validation accuracy: 1.0\n"
     ]
    }
   ],
   "source": [
    "print(\"Validation accuracy: {}\".format(model.evaluate(validation_generator)[1]))"
   ]
  },
  {
   "cell_type": "code",
   "execution_count": 28,
   "metadata": {},
   "outputs": [
    {
     "name": "stdout",
     "output_type": "stream",
     "text": [
      "121/121 [==============================] - 1s 11ms/step - loss: 0.0312 - accuracy: 0.9876 - true_positives: 956.0000 - true_negatives: 2892.0000 - false_positives: 12.0000 - false_negatives: 12.0000\n",
      "Blind test accuracy: 0.9876033067703247\n"
     ]
    }
   ],
   "source": [
    "print(\"Blind test accuracy: {}\".format(model.evaluate(test_generator)[1]))"
   ]
  },
  {
   "cell_type": "code",
   "execution_count": 29,
   "metadata": {},
   "outputs": [
    {
     "name": "stdout",
     "output_type": "stream",
     "text": [
      "121/121 [==============================] - 1s 8ms/step - loss: 0.0312 - accuracy: 0.9876 - true_positives: 956.0000 - true_negatives: 2892.0000 - false_positives: 12.0000 - false_negatives: 12.0000\n",
      "121/121 [==============================] - 1s 8ms/step - loss: 0.0312 - accuracy: 0.9876 - true_positives: 956.0000 - true_negatives: 2892.0000 - false_positives: 12.0000 - false_negatives: 12.0000\n",
      "121/121 [==============================] - 1s 8ms/step - loss: 0.0312 - accuracy: 0.9876 - true_positives: 956.0000 - true_negatives: 2892.0000 - false_positives: 12.0000 - false_negatives: 12.0000\n",
      "121/121 [==============================] - 1s 8ms/step - loss: 0.0312 - accuracy: 0.9876 - true_positives: 956.0000 - true_negatives: 2892.0000 - false_positives: 12.0000 - false_negatives: 12.0000\n"
     ]
    }
   ],
   "source": [
    "tp = int(model.evaluate(test_generator)[2])\n",
    "tn = int(model.evaluate(test_generator)[3])\n",
    "fp = int(model.evaluate(test_generator)[4])\n",
    "fn = int(model.evaluate(test_generator)[5])"
   ]
  },
  {
   "cell_type": "code",
   "execution_count": 30,
   "metadata": {},
   "outputs": [
    {
     "name": "stdout",
     "output_type": "stream",
     "text": [
      "Sensitivity: 98.7603305785124\n",
      "Specificity: 99.58677685950413\n"
     ]
    }
   ],
   "source": [
    "sensitivity = (tp/(tp+fn))*100\n",
    "specificity = (tn/(tn+fp))*100\n",
    "\n",
    "print(\"Sensitivity: {}\".format(sensitivity))\n",
    "print(\"Specificity: {}\".format(specificity))"
   ]
  },
  {
   "cell_type": "markdown",
   "metadata": {},
   "source": [
    "# Classification Report"
   ]
  },
  {
   "cell_type": "code",
   "execution_count": 31,
   "metadata": {},
   "outputs": [],
   "source": [
    "loaded_model = tf.keras.models.load_model('model.h5')"
   ]
  },
  {
   "cell_type": "code",
   "execution_count": 32,
   "metadata": {},
   "outputs": [
    {
     "name": "stdout",
     "output_type": "stream",
     "text": [
      "Model: \"sequential\"\n",
      "_________________________________________________________________\n",
      "Layer (type)                 Output Shape              Param #   \n",
      "=================================================================\n",
      "conv2d (Conv2D)              (None, 128, 128, 16)      448       \n",
      "_________________________________________________________________\n",
      "max_pooling2d (MaxPooling2D) (None, 64, 64, 16)        0         \n",
      "_________________________________________________________________\n",
      "conv2d_1 (Conv2D)            (None, 64, 64, 32)        4640      \n",
      "_________________________________________________________________\n",
      "max_pooling2d_1 (MaxPooling2 (None, 32, 32, 32)        0         \n",
      "_________________________________________________________________\n",
      "conv2d_2 (Conv2D)            (None, 32, 32, 64)        18496     \n",
      "_________________________________________________________________\n",
      "max_pooling2d_2 (MaxPooling2 (None, 16, 16, 64)        0         \n",
      "_________________________________________________________________\n",
      "conv2d_3 (Conv2D)            (None, 16, 16, 128)       73856     \n",
      "_________________________________________________________________\n",
      "max_pooling2d_3 (MaxPooling2 (None, 8, 8, 128)         0         \n",
      "_________________________________________________________________\n",
      "conv2d_4 (Conv2D)            (None, 8, 8, 256)         295168    \n",
      "_________________________________________________________________\n",
      "max_pooling2d_4 (MaxPooling2 (None, 4, 4, 256)         0         \n",
      "_________________________________________________________________\n",
      "flatten (Flatten)            (None, 4096)              0         \n",
      "_________________________________________________________________\n",
      "dense (Dense)                (None, 256)               1048832   \n",
      "_________________________________________________________________\n",
      "dropout (Dropout)            (None, 256)               0         \n",
      "_________________________________________________________________\n",
      "dense_1 (Dense)              (None, 4)                 1028      \n",
      "=================================================================\n",
      "Total params: 1,442,468\n",
      "Trainable params: 1,442,468\n",
      "Non-trainable params: 0\n",
      "_________________________________________________________________\n"
     ]
    }
   ],
   "source": [
    "loaded_model.summary()"
   ]
  },
  {
   "cell_type": "code",
   "execution_count": 33,
   "metadata": {},
   "outputs": [],
   "source": [
    "test_class_list = []\n",
    "\n",
    "for test_name in os.listdir(test_directory):\n",
    "    test = os.path.join(test_directory, test_name)\n",
    "    test_class_list.append(test)\n",
    "\n",
    "test_class_list.sort()"
   ]
  },
  {
   "cell_type": "code",
   "execution_count": 34,
   "metadata": {},
   "outputs": [],
   "source": [
    "def pred(test_directory, test_generator, class_no, best_model_address, dim):\n",
    "    \n",
    "    test_class_list = []\n",
    "    \n",
    "    for test_name in os.listdir(test_directory):\n",
    "        test = os.path.join(test_directory, test_name)\n",
    "        test_class_list.append(test)\n",
    "        \n",
    "    test_class_list.sort()\n",
    "    \n",
    "    y_true = test_generator.classes\n",
    "    labels = test_generator.class_indices\n",
    "    \n",
    "    y_pred = []\n",
    "    tot = len(os.listdir(test_class_list[1]))*class_no\n",
    "\n",
    "    best_model = tf.keras.models.load_model(best_model_address)\n",
    "\n",
    "    \n",
    "    with tqdm(total=tot) as pbar:\n",
    "        for i in range(class_no):\n",
    "            for filename in os.listdir(test_class_list[i]):\n",
    "                file = os.path.join(test_class_list[i], filename)\n",
    "                img = cv2.imread(file)\n",
    "                res = cv2.resize(img, (dim[0], dim[1]))\n",
    "                normed = res / 255.0\n",
    "                im_mat = normed.reshape(1, dim[0], dim[1], dim[2])\n",
    "\n",
    "                pred = best_model.predict(im_mat)\n",
    "                pred_categorical = tf.keras.utils.to_categorical(pred)\n",
    "\n",
    "                if class_no >= 2:\n",
    "                    max_pred = np.argmax(pred)\n",
    "                else:\n",
    "                    max_pred = np.argmax(pred_categorical)\n",
    "\n",
    "                y_pred.append(max_pred)\n",
    "\n",
    "                pbar.set_description(\"Progress\")\n",
    "                pbar.update()\n",
    "                \n",
    "    return y_true, y_pred, labels"
   ]
  },
  {
   "cell_type": "code",
   "execution_count": 35,
   "metadata": {},
   "outputs": [
    {
     "name": "stderr",
     "output_type": "stream",
     "text": [
      "Progress: 100%|██████████| 968/968 [00:39<00:00, 24.49it/s]\n"
     ]
    }
   ],
   "source": [
    "class_no = 4\n",
    "best_model_address = 'model.h5'\n",
    "dim = (128,128,3)\n",
    "y_true, y_pred, labels = pred(test_directory, test_generator, class_no, best_model_address, dim)"
   ]
  },
  {
   "cell_type": "code",
   "execution_count": 36,
   "metadata": {},
   "outputs": [],
   "source": [
    "def report(y_true, y_pred, labels):\n",
    "    from sklearn.metrics import classification_report\n",
    "    from sklearn.metrics import confusion_matrix \n",
    "    \n",
    "    print(\"Calculating CLASSIFICATION REPORT: \")\n",
    "    classification_reports = classification_report(y_true, y_pred, target_names=labels)\n",
    "    print(classification_reports)\n",
    "\n",
    "    cm = confusion_matrix(y_true, y_pred)\n",
    "    total = sum(sum(cm))\n",
    "\n",
    "    return cm, classification_reports"
   ]
  },
  {
   "cell_type": "code",
   "execution_count": 37,
   "metadata": {},
   "outputs": [
    {
     "name": "stdout",
     "output_type": "stream",
     "text": [
      "Calculating CLASSIFICATION REPORT: \n",
      "              precision    recall  f1-score   support\n",
      "\n",
      "         CNV       0.98      1.00      0.99       242\n",
      "         DME       1.00      0.98      0.99       242\n",
      "      DRUSEN       0.99      0.98      0.99       242\n",
      "      NORMAL       0.99      0.99      0.99       242\n",
      "\n",
      "    accuracy                           0.99       968\n",
      "   macro avg       0.99      0.99      0.99       968\n",
      "weighted avg       0.99      0.99      0.99       968\n",
      "\n"
     ]
    }
   ],
   "source": [
    "cm, classification_reports  = report(y_true, y_pred, labels)"
   ]
  },
  {
   "cell_type": "code",
   "execution_count": 38,
   "metadata": {},
   "outputs": [],
   "source": [
    "from mlxtend.plotting import plot_confusion_matrix\n",
    "\n",
    "def conf_mat(cm, labels):\n",
    "    fig, ax = plot_confusion_matrix(conf_mat=cm,\n",
    "                                colorbar=True,\n",
    "                                show_absolute=True,\n",
    "                                class_names=labels,\n",
    "                                show_normed=False)\n",
    "\n",
    "#     plt.savefig('confusion-matrix.eps')\n",
    "    plt.savefig('confusion-matrix.jpg')"
   ]
  },
  {
   "cell_type": "code",
   "execution_count": 39,
   "metadata": {},
   "outputs": [
    {
     "data": {
      "image/png": "[encoded data removed]",
      "text/plain": [
       "<Figure size 432x288 with 2 Axes>"
      ]
     },
     "metadata": {
      "needs_background": "light"
     },
     "output_type": "display_data"
    }
   ],
   "source": [
    "conf_mat(cm, labels)"
   ]
  },
  {
   "cell_type": "code",
   "execution_count": null,
   "metadata": {},
   "outputs": [],
   "source": []
  }
 ],
 "metadata": {
  "kernelspec": {
   "display_name": "Python 3",
   "language": "python",
   "name": "python3"
  },
  "language_info": {
   "codemirror_mode": {
    "name": "ipython",
    "version": 3
   },
   "file_extension": ".py",
   "mimetype": "text/x-python",
   "name": "python",
   "nbconvert_exporter": "python",
   "pygments_lexer": "ipython3",
   "version": "3.8.5"
  }
 },
 "nbformat": 4,
 "nbformat_minor": 4
}
